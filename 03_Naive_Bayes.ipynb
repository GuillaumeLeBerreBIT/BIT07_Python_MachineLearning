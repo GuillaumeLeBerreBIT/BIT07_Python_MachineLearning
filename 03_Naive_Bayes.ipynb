{
 "cells": [
  {
   "cell_type": "code",
   "execution_count": 26,
   "metadata": {},
   "outputs": [],
   "source": [
    "%matplotlib inline\n",
    "import pandas as pd\n",
    "import matplotlib.pyplot as plt\n",
    "from sklearn.model_selection import train_test_split\n",
    "from sklearn.metrics import classification_report,confusion_matrix, ConfusionMatrixDisplay\n",
    "from sklearn.linear_model import LogisticRegression\n",
    "from sklearn.naive_bayes import MultinomialNB\n",
    "import seaborn as sns\n",
    "import numpy as np"
   ]
  },
  {
   "cell_type": "markdown",
   "metadata": {},
   "source": [
    "# Cancer Inhibitors dataset\n",
    "Following dataset is coming from https://www.kaggle.com/xiaotawkaggle/inhibitors\n",
    "\n",
    "On Leho there is an adapted csv of the cdk2.h5 dataset. The adaptations I already did for you was extracting the data out of the .h5 file. Renaming the columns, add in the IDs of each of the compounds (row names) and combine it with the target into a .csv file.\n",
    "\n",
    "For cdk2, 1890 potential inhibitors are collected from chembl database, in which molecules with IC50 lower than 10 uM are usually considered as inhibitors, otherwise non-inhibitors.\n",
    "\n",
    "The rownames represent the CHEMBL Id, which can be used to search the CHEMBL database: https://www.ebi.ac.uk/chembl/\n",
    "\n",
    "The features are split into 3 categories that represent three different sets of molecular fingerprints calculated by RDKIT. For more information: http://www.rdkit.org/docs/GettingStartedInPython.html#topological-fingerprints\n",
    "* ap: Atom Pairs\n",
    "* mg: Morgan Fingerprints (Circular Fingerprints)\n",
    "* tt: Topological Torsions\n",
    "\n",
    "The actual values represent if a molecular fingerprint is present in a specific molecule or not (1: present, 0: not present)\n",
    "\n",
    "The target column indicated if the molecule is considered an inhibitor or not."
   ]
  },
  {
   "cell_type": "code",
   "execution_count": 5,
   "metadata": {},
   "outputs": [
    {
     "data": {
      "text/html": [
       "<div>\n",
       "<style scoped>\n",
       "    .dataframe tbody tr th:only-of-type {\n",
       "        vertical-align: middle;\n",
       "    }\n",
       "\n",
       "    .dataframe tbody tr th {\n",
       "        vertical-align: top;\n",
       "    }\n",
       "\n",
       "    .dataframe thead th {\n",
       "        text-align: right;\n",
       "    }\n",
       "</style>\n",
       "<table border=\"1\" class=\"dataframe\">\n",
       "  <thead>\n",
       "    <tr style=\"text-align: right;\">\n",
       "      <th></th>\n",
       "      <th>ap_1</th>\n",
       "      <th>ap_2</th>\n",
       "      <th>ap_3</th>\n",
       "      <th>ap_4</th>\n",
       "      <th>ap_5</th>\n",
       "      <th>ap_6</th>\n",
       "      <th>ap_7</th>\n",
       "      <th>ap_8</th>\n",
       "      <th>ap_9</th>\n",
       "      <th>ap_10</th>\n",
       "      <th>...</th>\n",
       "      <th>tt_2031</th>\n",
       "      <th>tt_2032</th>\n",
       "      <th>tt_2033</th>\n",
       "      <th>tt_2034</th>\n",
       "      <th>tt_2035</th>\n",
       "      <th>tt_2036</th>\n",
       "      <th>tt_2037</th>\n",
       "      <th>tt_2038</th>\n",
       "      <th>tt_2039</th>\n",
       "      <th>target</th>\n",
       "    </tr>\n",
       "  </thead>\n",
       "  <tbody>\n",
       "    <tr>\n",
       "      <th>CHEMBL405042</th>\n",
       "      <td>0</td>\n",
       "      <td>0</td>\n",
       "      <td>0</td>\n",
       "      <td>0</td>\n",
       "      <td>0</td>\n",
       "      <td>0</td>\n",
       "      <td>0</td>\n",
       "      <td>0</td>\n",
       "      <td>0</td>\n",
       "      <td>0</td>\n",
       "      <td>...</td>\n",
       "      <td>0</td>\n",
       "      <td>0</td>\n",
       "      <td>0</td>\n",
       "      <td>0</td>\n",
       "      <td>0</td>\n",
       "      <td>0</td>\n",
       "      <td>0</td>\n",
       "      <td>0</td>\n",
       "      <td>0</td>\n",
       "      <td>1</td>\n",
       "    </tr>\n",
       "    <tr>\n",
       "      <th>CHEMBL258805</th>\n",
       "      <td>0</td>\n",
       "      <td>0</td>\n",
       "      <td>0</td>\n",
       "      <td>0</td>\n",
       "      <td>0</td>\n",
       "      <td>0</td>\n",
       "      <td>0</td>\n",
       "      <td>0</td>\n",
       "      <td>0</td>\n",
       "      <td>0</td>\n",
       "      <td>...</td>\n",
       "      <td>0</td>\n",
       "      <td>0</td>\n",
       "      <td>0</td>\n",
       "      <td>0</td>\n",
       "      <td>0</td>\n",
       "      <td>0</td>\n",
       "      <td>0</td>\n",
       "      <td>0</td>\n",
       "      <td>0</td>\n",
       "      <td>1</td>\n",
       "    </tr>\n",
       "    <tr>\n",
       "      <th>CHEMBL318485</th>\n",
       "      <td>1</td>\n",
       "      <td>0</td>\n",
       "      <td>0</td>\n",
       "      <td>0</td>\n",
       "      <td>0</td>\n",
       "      <td>0</td>\n",
       "      <td>0</td>\n",
       "      <td>0</td>\n",
       "      <td>0</td>\n",
       "      <td>0</td>\n",
       "      <td>...</td>\n",
       "      <td>0</td>\n",
       "      <td>0</td>\n",
       "      <td>0</td>\n",
       "      <td>0</td>\n",
       "      <td>0</td>\n",
       "      <td>0</td>\n",
       "      <td>0</td>\n",
       "      <td>1</td>\n",
       "      <td>0</td>\n",
       "      <td>0</td>\n",
       "    </tr>\n",
       "    <tr>\n",
       "      <th>CHEMBL260417</th>\n",
       "      <td>0</td>\n",
       "      <td>0</td>\n",
       "      <td>0</td>\n",
       "      <td>0</td>\n",
       "      <td>0</td>\n",
       "      <td>0</td>\n",
       "      <td>0</td>\n",
       "      <td>0</td>\n",
       "      <td>0</td>\n",
       "      <td>0</td>\n",
       "      <td>...</td>\n",
       "      <td>0</td>\n",
       "      <td>0</td>\n",
       "      <td>0</td>\n",
       "      <td>0</td>\n",
       "      <td>0</td>\n",
       "      <td>0</td>\n",
       "      <td>0</td>\n",
       "      <td>0</td>\n",
       "      <td>0</td>\n",
       "      <td>1</td>\n",
       "    </tr>\n",
       "    <tr>\n",
       "      <th>CHEMBL101557</th>\n",
       "      <td>1</td>\n",
       "      <td>0</td>\n",
       "      <td>0</td>\n",
       "      <td>0</td>\n",
       "      <td>0</td>\n",
       "      <td>0</td>\n",
       "      <td>0</td>\n",
       "      <td>0</td>\n",
       "      <td>0</td>\n",
       "      <td>0</td>\n",
       "      <td>...</td>\n",
       "      <td>0</td>\n",
       "      <td>0</td>\n",
       "      <td>0</td>\n",
       "      <td>0</td>\n",
       "      <td>0</td>\n",
       "      <td>0</td>\n",
       "      <td>0</td>\n",
       "      <td>1</td>\n",
       "      <td>0</td>\n",
       "      <td>0</td>\n",
       "    </tr>\n",
       "    <tr>\n",
       "      <th>CHEMBL48614</th>\n",
       "      <td>0</td>\n",
       "      <td>3</td>\n",
       "      <td>0</td>\n",
       "      <td>0</td>\n",
       "      <td>0</td>\n",
       "      <td>0</td>\n",
       "      <td>0</td>\n",
       "      <td>0</td>\n",
       "      <td>0</td>\n",
       "      <td>0</td>\n",
       "      <td>...</td>\n",
       "      <td>0</td>\n",
       "      <td>0</td>\n",
       "      <td>0</td>\n",
       "      <td>0</td>\n",
       "      <td>0</td>\n",
       "      <td>0</td>\n",
       "      <td>0</td>\n",
       "      <td>0</td>\n",
       "      <td>0</td>\n",
       "      <td>1</td>\n",
       "    </tr>\n",
       "    <tr>\n",
       "      <th>CHEMBL72510</th>\n",
       "      <td>0</td>\n",
       "      <td>0</td>\n",
       "      <td>0</td>\n",
       "      <td>0</td>\n",
       "      <td>0</td>\n",
       "      <td>0</td>\n",
       "      <td>0</td>\n",
       "      <td>0</td>\n",
       "      <td>0</td>\n",
       "      <td>0</td>\n",
       "      <td>...</td>\n",
       "      <td>0</td>\n",
       "      <td>0</td>\n",
       "      <td>0</td>\n",
       "      <td>0</td>\n",
       "      <td>0</td>\n",
       "      <td>0</td>\n",
       "      <td>0</td>\n",
       "      <td>0</td>\n",
       "      <td>0</td>\n",
       "      <td>1</td>\n",
       "    </tr>\n",
       "    <tr>\n",
       "      <th>CHEMBL411426</th>\n",
       "      <td>0</td>\n",
       "      <td>0</td>\n",
       "      <td>0</td>\n",
       "      <td>0</td>\n",
       "      <td>0</td>\n",
       "      <td>0</td>\n",
       "      <td>0</td>\n",
       "      <td>0</td>\n",
       "      <td>0</td>\n",
       "      <td>0</td>\n",
       "      <td>...</td>\n",
       "      <td>0</td>\n",
       "      <td>0</td>\n",
       "      <td>0</td>\n",
       "      <td>0</td>\n",
       "      <td>0</td>\n",
       "      <td>0</td>\n",
       "      <td>0</td>\n",
       "      <td>0</td>\n",
       "      <td>0</td>\n",
       "      <td>1</td>\n",
       "    </tr>\n",
       "    <tr>\n",
       "      <th>CHEMBL101558</th>\n",
       "      <td>1</td>\n",
       "      <td>0</td>\n",
       "      <td>0</td>\n",
       "      <td>0</td>\n",
       "      <td>0</td>\n",
       "      <td>0</td>\n",
       "      <td>0</td>\n",
       "      <td>0</td>\n",
       "      <td>0</td>\n",
       "      <td>0</td>\n",
       "      <td>...</td>\n",
       "      <td>0</td>\n",
       "      <td>0</td>\n",
       "      <td>0</td>\n",
       "      <td>0</td>\n",
       "      <td>0</td>\n",
       "      <td>0</td>\n",
       "      <td>0</td>\n",
       "      <td>1</td>\n",
       "      <td>0</td>\n",
       "      <td>0</td>\n",
       "    </tr>\n",
       "    <tr>\n",
       "      <th>CHEMBL260103</th>\n",
       "      <td>0</td>\n",
       "      <td>0</td>\n",
       "      <td>0</td>\n",
       "      <td>0</td>\n",
       "      <td>0</td>\n",
       "      <td>0</td>\n",
       "      <td>0</td>\n",
       "      <td>0</td>\n",
       "      <td>0</td>\n",
       "      <td>0</td>\n",
       "      <td>...</td>\n",
       "      <td>0</td>\n",
       "      <td>0</td>\n",
       "      <td>0</td>\n",
       "      <td>0</td>\n",
       "      <td>0</td>\n",
       "      <td>0</td>\n",
       "      <td>0</td>\n",
       "      <td>0</td>\n",
       "      <td>0</td>\n",
       "      <td>1</td>\n",
       "    </tr>\n",
       "  </tbody>\n",
       "</table>\n",
       "<p>10 rows × 6118 columns</p>\n",
       "</div>"
      ],
      "text/plain": [
       "              ap_1  ap_2  ap_3  ap_4  ap_5  ap_6  ap_7  ap_8  ap_9  ap_10  \\\n",
       "CHEMBL405042     0     0     0     0     0     0     0     0     0      0   \n",
       "CHEMBL258805     0     0     0     0     0     0     0     0     0      0   \n",
       "CHEMBL318485     1     0     0     0     0     0     0     0     0      0   \n",
       "CHEMBL260417     0     0     0     0     0     0     0     0     0      0   \n",
       "CHEMBL101557     1     0     0     0     0     0     0     0     0      0   \n",
       "CHEMBL48614      0     3     0     0     0     0     0     0     0      0   \n",
       "CHEMBL72510      0     0     0     0     0     0     0     0     0      0   \n",
       "CHEMBL411426     0     0     0     0     0     0     0     0     0      0   \n",
       "CHEMBL101558     1     0     0     0     0     0     0     0     0      0   \n",
       "CHEMBL260103     0     0     0     0     0     0     0     0     0      0   \n",
       "\n",
       "              ...  tt_2031  tt_2032  tt_2033  tt_2034  tt_2035  tt_2036  \\\n",
       "CHEMBL405042  ...        0        0        0        0        0        0   \n",
       "CHEMBL258805  ...        0        0        0        0        0        0   \n",
       "CHEMBL318485  ...        0        0        0        0        0        0   \n",
       "CHEMBL260417  ...        0        0        0        0        0        0   \n",
       "CHEMBL101557  ...        0        0        0        0        0        0   \n",
       "CHEMBL48614   ...        0        0        0        0        0        0   \n",
       "CHEMBL72510   ...        0        0        0        0        0        0   \n",
       "CHEMBL411426  ...        0        0        0        0        0        0   \n",
       "CHEMBL101558  ...        0        0        0        0        0        0   \n",
       "CHEMBL260103  ...        0        0        0        0        0        0   \n",
       "\n",
       "              tt_2037  tt_2038  tt_2039  target  \n",
       "CHEMBL405042        0        0        0       1  \n",
       "CHEMBL258805        0        0        0       1  \n",
       "CHEMBL318485        0        1        0       0  \n",
       "CHEMBL260417        0        0        0       1  \n",
       "CHEMBL101557        0        1        0       0  \n",
       "CHEMBL48614         0        0        0       1  \n",
       "CHEMBL72510         0        0        0       1  \n",
       "CHEMBL411426        0        0        0       1  \n",
       "CHEMBL101558        0        1        0       0  \n",
       "CHEMBL260103        0        0        0       1  \n",
       "\n",
       "[10 rows x 6118 columns]"
      ]
     },
     "execution_count": 5,
     "metadata": {},
     "output_type": "execute_result"
    }
   ],
   "source": [
    "# Read in the data, because we have row names in our dataset, use pd.read_csv('filename.csv',index_col=0)\n",
    "data = pd.read_csv(\"data/cdk2.csv\", index_col=0)\n",
    "# Take a look at the first rows of the dataframe\n",
    "data.head(10)"
   ]
  },
  {
   "cell_type": "code",
   "execution_count": 6,
   "metadata": {},
   "outputs": [
    {
     "data": {
      "text/plain": [
       "(1890, 6118)"
      ]
     },
     "execution_count": 6,
     "metadata": {},
     "output_type": "execute_result"
    }
   ],
   "source": [
    "# Take a look at the number of rows and columns in the dataframe\n",
    "data.shape"
   ]
  },
  {
   "cell_type": "code",
   "execution_count": 8,
   "metadata": {},
   "outputs": [
    {
     "data": {
      "text/plain": [
       "<AxesSubplot: xlabel='target', ylabel='count'>"
      ]
     },
     "execution_count": 8,
     "metadata": {},
     "output_type": "execute_result"
    },
    {
     "data": {
      "image/png": "[encoded data removed]",
      "text/plain": [
       "<Figure size 640x480 with 1 Axes>"
      ]
     },
     "metadata": {},
     "output_type": "display_data"
    }
   ],
   "source": [
    "# Plot the counts of the target column using  a seaborn countplot\n",
    "sns.countplot(data=data, x=\"target\")"
   ]
  },
  {
   "cell_type": "code",
   "execution_count": 9,
   "metadata": {},
   "outputs": [
    {
     "data": {
      "text/plain": [
       "<AxesSubplot: xlabel='ap_1', ylabel='count'>"
      ]
     },
     "execution_count": 9,
     "metadata": {},
     "output_type": "execute_result"
    },
    {
     "data": {
      "image/png": "[encoded data removed]",
      "text/plain": [
       "<Figure size 640x480 with 1 Axes>"
      ]
     },
     "metadata": {},
     "output_type": "display_data"
    }
   ],
   "source": [
    "# Plot a countplot of the first feature column (ap_1)\n",
    "sns.countplot(data=data, x=\"ap_1\")"
   ]
  },
  {
   "cell_type": "markdown",
   "metadata": {},
   "source": [
    "**What is noteworthy of the plot above?**\n",
    "\n"
   ]
  },
  {
   "cell_type": "markdown",
   "metadata": {},
   "source": [
    "**Notes:**\n",
    "Due to the amount of columns, a df.describe() will not show you a lot of information.\n",
    "\n",
    "Pairplots and corrplots would be gigantic and also not very informative due to it being sparse data.\n",
    "\n",
    "Removing outliers would not be a good idea, since a lot of the values that are different from 0 would already be considered outliers, whilst these are just the informative things.\n",
    "    "
   ]
  },
  {
   "cell_type": "code",
   "execution_count": 11,
   "metadata": {},
   "outputs": [],
   "source": [
    "# Split into features and targets\n",
    "X = data.drop(\"target\", axis = 1)\n",
    "y = data.target"
   ]
  },
  {
   "cell_type": "code",
   "execution_count": 12,
   "metadata": {},
   "outputs": [],
   "source": [
    "# Split into training and test set. Keep +-20% as a test_set\n",
    "X_train, X_test, y_train, y_test = train_test_split(X,y,test_size=0.2,random_state= 17)"
   ]
  },
  {
   "cell_type": "code",
   "execution_count": 25,
   "metadata": {},
   "outputs": [
    {
     "name": "stdout",
     "output_type": "stream",
     "text": [
      " Training model score: 0.794973544973545\n",
      " Test model score: 0.7354497354497355\n"
     ]
    }
   ],
   "source": [
    "# Create a multinomial naive bayes classifier\n",
    "NBmodel = MultinomialNB(alpha=5)\n",
    "\n",
    "# Fit the model\n",
    "# Fit the training data\n",
    "NBmodel.fit(X_train,y_train)\n",
    "\n",
    "# Show the score of the test data\n",
    "print(f\" Training model score: {NBmodel.score(X_train, y_train)}\")\n",
    "print(f\" Test model score: {NBmodel.score(X_test, y_test)}\")\n",
    "\n",
    "#print(NBmodel.predict_proba(X_test))"
   ]
  },
  {
   "cell_type": "code",
   "execution_count": 33,
   "metadata": {},
   "outputs": [
    {
     "name": "stdout",
     "output_type": "stream",
     "text": [
      "[[ 94  26]\n",
      " [ 74 184]]\n"
     ]
    },
    {
     "data": {
      "image/png": "[encoded data removed]",
      "text/plain": [
       "<Figure size 640x480 with 2 Axes>"
      ]
     },
     "metadata": {},
     "output_type": "display_data"
    },
    {
     "name": "stdout",
     "output_type": "stream",
     "text": [
      "              precision    recall  f1-score   support\n",
      "\n",
      "           0       0.56      0.78      0.65       120\n",
      "           1       0.88      0.71      0.79       258\n",
      "\n",
      "    accuracy                           0.74       378\n",
      "   macro avg       0.72      0.75      0.72       378\n",
      "weighted avg       0.78      0.74      0.74       378\n",
      "\n"
     ]
    }
   ],
   "source": [
    "# Predict values for the test set\n",
    "y_test_pred = NBmodel.predict(X_test)\n",
    "\n",
    "# Print a confusion matrix and classification report\n",
    "print(confusion_matrix(y_test,y_test_pred))\n",
    "\n",
    "cf = confusion_matrix(y_test,y_test_pred)\n",
    "matrix = ConfusionMatrixDisplay(cf)\n",
    "matrix.plot()\n",
    "plt.show()\n",
    "\n",
    "print(classification_report(y_test,y_test_pred))"
   ]
  },
  {
   "cell_type": "code",
   "execution_count": 37,
   "metadata": {},
   "outputs": [
    {
     "name": "stdout",
     "output_type": "stream",
     "text": [
      "Train score: 0.9993386243386243\n",
      "Test score: 0.9993386243386243\n",
      "[[ 89  31]\n",
      " [ 22 236]]\n"
     ]
    },
    {
     "data": {
      "image/png": "[encoded data removed]",
      "text/plain": [
       "<Figure size 640x480 with 2 Axes>"
      ]
     },
     "metadata": {},
     "output_type": "display_data"
    },
    {
     "name": "stdout",
     "output_type": "stream",
     "text": [
      "              precision    recall  f1-score   support\n",
      "\n",
      "           0       0.80      0.74      0.77       120\n",
      "           1       0.88      0.91      0.90       258\n",
      "\n",
      "    accuracy                           0.86       378\n",
      "   macro avg       0.84      0.83      0.83       378\n",
      "weighted avg       0.86      0.86      0.86       378\n",
      "\n"
     ]
    }
   ],
   "source": [
    "# Train a logistic regression model on the data and test it as you did for the naive bayes model\n",
    "LogModel = LogisticRegression(penalty=\"l2\", C = 5, class_weight= \"balanced\", solver = 'newton-cg')\n",
    "\n",
    "LogModel.fit(X_train,y_train)\n",
    "\n",
    "print(f\"Train score: {LogModel.score(X_train,y_train)}\")\n",
    "print(f\"Test score: {LogModel.score(X_train,y_train)}\")\n",
    "\n",
    "y_test_pred = LogModel.predict(X_test)\n",
    "\n",
    "# Print a confusion matrix and classification report\n",
    "print(confusion_matrix(y_test,y_test_pred))\n",
    "\n",
    "cf = confusion_matrix(y_test,y_test_pred)\n",
    "matrix = ConfusionMatrixDisplay(cf)\n",
    "matrix.plot()\n",
    "plt.show()\n",
    "\n",
    "print(classification_report(y_test,y_test_pred))"
   ]
  },
  {
   "cell_type": "markdown",
   "metadata": {},
   "source": [
    "Also try and play with the hyperparameters a bit\n",
    "\n",
    "## Conclusion\n",
    "**What can we conclude regarding the metrics of both models**\n",
    "THe metrics for the Naive Bayes classification has a far worse score then the logistic regression score. The Logistisc regression model with hyperparameter tuning has a significantly higher score and better performance\n",
    "\n",
    "**What can we conclude regarding the time it takes to train the model?**\n",
    "The LogisticRegr takes much more tim due to also the hyperparameter tuning then the NB which is quite fast trained model. \n"
   ]
  },
  {
   "cell_type": "markdown",
   "metadata": {},
   "source": [
    "# MNIST dataset\n",
    "MNIST is the \"hello world\" of AI.\n",
    "\n",
    "MNIST is a dataset containing a lot of handwritten digits. The goal is to correctly identify the written digit from the image. There is a lot of different sets and subsets available online. The data that we will be using is coming from\n",
    "https://www.kaggle.com/c/digit-recognizer/data\n",
    "\n",
    "Each image contains 28x28 pixels => 784 values between 0 (black) and 255 (white)\n",
    "\n",
    "Some initial code is given as to show you how to display the images"
   ]
  },
  {
   "cell_type": "code",
   "execution_count": 38,
   "metadata": {},
   "outputs": [],
   "source": [
    "# Read in the dataset\n",
    "df = pd.read_csv(\"data/MNIST.csv\")"
   ]
  },
  {
   "cell_type": "code",
   "execution_count": 39,
   "metadata": {},
   "outputs": [
    {
     "data": {
      "text/html": [
       "<div>\n",
       "<style scoped>\n",
       "    .dataframe tbody tr th:only-of-type {\n",
       "        vertical-align: middle;\n",
       "    }\n",
       "\n",
       "    .dataframe tbody tr th {\n",
       "        vertical-align: top;\n",
       "    }\n",
       "\n",
       "    .dataframe thead th {\n",
       "        text-align: right;\n",
       "    }\n",
       "</style>\n",
       "<table border=\"1\" class=\"dataframe\">\n",
       "  <thead>\n",
       "    <tr style=\"text-align: right;\">\n",
       "      <th></th>\n",
       "      <th>label</th>\n",
       "      <th>pixel0</th>\n",
       "      <th>pixel1</th>\n",
       "      <th>pixel2</th>\n",
       "      <th>pixel3</th>\n",
       "      <th>pixel4</th>\n",
       "      <th>pixel5</th>\n",
       "      <th>pixel6</th>\n",
       "      <th>pixel7</th>\n",
       "      <th>pixel8</th>\n",
       "      <th>...</th>\n",
       "      <th>pixel774</th>\n",
       "      <th>pixel775</th>\n",
       "      <th>pixel776</th>\n",
       "      <th>pixel777</th>\n",
       "      <th>pixel778</th>\n",
       "      <th>pixel779</th>\n",
       "      <th>pixel780</th>\n",
       "      <th>pixel781</th>\n",
       "      <th>pixel782</th>\n",
       "      <th>pixel783</th>\n",
       "    </tr>\n",
       "  </thead>\n",
       "  <tbody>\n",
       "    <tr>\n",
       "      <th>0</th>\n",
       "      <td>1</td>\n",
       "      <td>0</td>\n",
       "      <td>0</td>\n",
       "      <td>0</td>\n",
       "      <td>0</td>\n",
       "      <td>0</td>\n",
       "      <td>0</td>\n",
       "      <td>0</td>\n",
       "      <td>0</td>\n",
       "      <td>0</td>\n",
       "      <td>...</td>\n",
       "      <td>0</td>\n",
       "      <td>0</td>\n",
       "      <td>0</td>\n",
       "      <td>0</td>\n",
       "      <td>0</td>\n",
       "      <td>0</td>\n",
       "      <td>0</td>\n",
       "      <td>0</td>\n",
       "      <td>0</td>\n",
       "      <td>0</td>\n",
       "    </tr>\n",
       "    <tr>\n",
       "      <th>1</th>\n",
       "      <td>0</td>\n",
       "      <td>0</td>\n",
       "      <td>0</td>\n",
       "      <td>0</td>\n",
       "      <td>0</td>\n",
       "      <td>0</td>\n",
       "      <td>0</td>\n",
       "      <td>0</td>\n",
       "      <td>0</td>\n",
       "      <td>0</td>\n",
       "      <td>...</td>\n",
       "      <td>0</td>\n",
       "      <td>0</td>\n",
       "      <td>0</td>\n",
       "      <td>0</td>\n",
       "      <td>0</td>\n",
       "      <td>0</td>\n",
       "      <td>0</td>\n",
       "      <td>0</td>\n",
       "      <td>0</td>\n",
       "      <td>0</td>\n",
       "    </tr>\n",
       "    <tr>\n",
       "      <th>2</th>\n",
       "      <td>1</td>\n",
       "      <td>0</td>\n",
       "      <td>0</td>\n",
       "      <td>0</td>\n",
       "      <td>0</td>\n",
       "      <td>0</td>\n",
       "      <td>0</td>\n",
       "      <td>0</td>\n",
       "      <td>0</td>\n",
       "      <td>0</td>\n",
       "      <td>...</td>\n",
       "      <td>0</td>\n",
       "      <td>0</td>\n",
       "      <td>0</td>\n",
       "      <td>0</td>\n",
       "      <td>0</td>\n",
       "      <td>0</td>\n",
       "      <td>0</td>\n",
       "      <td>0</td>\n",
       "      <td>0</td>\n",
       "      <td>0</td>\n",
       "    </tr>\n",
       "    <tr>\n",
       "      <th>3</th>\n",
       "      <td>4</td>\n",
       "      <td>0</td>\n",
       "      <td>0</td>\n",
       "      <td>0</td>\n",
       "      <td>0</td>\n",
       "      <td>0</td>\n",
       "      <td>0</td>\n",
       "      <td>0</td>\n",
       "      <td>0</td>\n",
       "      <td>0</td>\n",
       "      <td>...</td>\n",
       "      <td>0</td>\n",
       "      <td>0</td>\n",
       "      <td>0</td>\n",
       "      <td>0</td>\n",
       "      <td>0</td>\n",
       "      <td>0</td>\n",
       "      <td>0</td>\n",
       "      <td>0</td>\n",
       "      <td>0</td>\n",
       "      <td>0</td>\n",
       "    </tr>\n",
       "    <tr>\n",
       "      <th>4</th>\n",
       "      <td>0</td>\n",
       "      <td>0</td>\n",
       "      <td>0</td>\n",
       "      <td>0</td>\n",
       "      <td>0</td>\n",
       "      <td>0</td>\n",
       "      <td>0</td>\n",
       "      <td>0</td>\n",
       "      <td>0</td>\n",
       "      <td>0</td>\n",
       "      <td>...</td>\n",
       "      <td>0</td>\n",
       "      <td>0</td>\n",
       "      <td>0</td>\n",
       "      <td>0</td>\n",
       "      <td>0</td>\n",
       "      <td>0</td>\n",
       "      <td>0</td>\n",
       "      <td>0</td>\n",
       "      <td>0</td>\n",
       "      <td>0</td>\n",
       "    </tr>\n",
       "  </tbody>\n",
       "</table>\n",
       "<p>5 rows × 785 columns</p>\n",
       "</div>"
      ],
      "text/plain": [
       "   label  pixel0  pixel1  pixel2  pixel3  pixel4  pixel5  pixel6  pixel7  \\\n",
       "0      1       0       0       0       0       0       0       0       0   \n",
       "1      0       0       0       0       0       0       0       0       0   \n",
       "2      1       0       0       0       0       0       0       0       0   \n",
       "3      4       0       0       0       0       0       0       0       0   \n",
       "4      0       0       0       0       0       0       0       0       0   \n",
       "\n",
       "   pixel8  ...  pixel774  pixel775  pixel776  pixel777  pixel778  pixel779  \\\n",
       "0       0  ...         0         0         0         0         0         0   \n",
       "1       0  ...         0         0         0         0         0         0   \n",
       "2       0  ...         0         0         0         0         0         0   \n",
       "3       0  ...         0         0         0         0         0         0   \n",
       "4       0  ...         0         0         0         0         0         0   \n",
       "\n",
       "   pixel780  pixel781  pixel782  pixel783  \n",
       "0         0         0         0         0  \n",
       "1         0         0         0         0  \n",
       "2         0         0         0         0  \n",
       "3         0         0         0         0  \n",
       "4         0         0         0         0  \n",
       "\n",
       "[5 rows x 785 columns]"
      ]
     },
     "execution_count": 39,
     "metadata": {},
     "output_type": "execute_result"
    }
   ],
   "source": [
    "# Take a look at the first rows of the dataset\n",
    "df.head()"
   ]
  },
  {
   "cell_type": "code",
   "execution_count": 40,
   "metadata": {},
   "outputs": [
    {
     "data": {
      "text/plain": [
       "<AxesSubplot: xlabel='label', ylabel='count'>"
      ]
     },
     "execution_count": 40,
     "metadata": {},
     "output_type": "execute_result"
    },
    {
     "data": {
      "image/png": "[encoded data removed]",
      "text/plain": [
       "<Figure size 640x480 with 1 Axes>"
      ]
     },
     "metadata": {},
     "output_type": "display_data"
    }
   ],
   "source": [
    "# Countplot of the numbers\n",
    "sns.countplot(x=\"label\",data=df)"
   ]
  },
  {
   "cell_type": "code",
   "execution_count": 41,
   "metadata": {},
   "outputs": [],
   "source": [
    "# Split into features and targets\n",
    "X = df.drop(\"label\",axis=1)\n",
    "y = df.label"
   ]
  },
  {
   "cell_type": "code",
   "execution_count": 42,
   "metadata": {},
   "outputs": [
    {
     "name": "stdout",
     "output_type": "stream",
     "text": [
      "Label: 4\n"
     ]
    },
    {
     "data": {
      "image/png": "[encoded data removed]",
      "text/plain": [
       "<Figure size 640x480 with 1 Axes>"
      ]
     },
     "metadata": {},
     "output_type": "display_data"
    }
   ],
   "source": [
    "# Change this value to see another sample\n",
    "row_num_X = 3\n",
    "\n",
    "# Extract the image from X\n",
    "single_image= X.iloc[row_num_X,:]  ## Row row_num_X, column all (:)\n",
    "\n",
    "# Convert the single array of 784 pixels into nested arrays as to creat a 28x28 array\n",
    "# [p0,p1,p2,p3,...,p784] becomes\n",
    "\n",
    "# [[p0,p1,p2,p3,...,p27]\n",
    "#  [p28,p29,p30,    ...]\n",
    "#  ...\n",
    "#  [          ..., p783]]\n",
    "single_image_to_28x28 = single_image.values.reshape(28,28)\n",
    "\n",
    "# Show the image\n",
    "plt.imshow(single_image_to_28x28,cmap='Greys')\n",
    "# Also print the corresponding label\n",
    "print(f\"Label: {y[row_num_X]}\")"
   ]
  },
  {
   "cell_type": "code",
   "execution_count": 43,
   "metadata": {},
   "outputs": [],
   "source": [
    "# Split into training and test set. Keep +-20% as a test_set\n",
    "X_train, X_test, y_train, y_test = train_test_split(X,y,test_size=0.2,random_state= 24)"
   ]
  },
  {
   "cell_type": "code",
   "execution_count": 44,
   "metadata": {},
   "outputs": [
    {
     "name": "stdout",
     "output_type": "stream",
     "text": [
      "Train score: 0.825654761904762\n",
      "Test score: 0.8320238095238095\n"
     ]
    }
   ],
   "source": [
    "# Train a multinomial naive bayes model on the data and test it using the test data\n",
    "ModelNB = MultinomialNB(alpha=1)\n",
    "\n",
    "ModelNB.fit(X_train,y_train)\n",
    "\n",
    "print(f\"Train score: {ModelNB.score(X_train,y_train)}\")\n",
    "print(f\"Test score: {ModelNB.score(X_test,y_test)}\")"
   ]
  },
  {
   "cell_type": "code",
   "execution_count": 46,
   "metadata": {},
   "outputs": [
    {
     "name": "stdout",
     "output_type": "stream",
     "text": [
      "[[749   1   7   1   2  12  10   0  34   2]\n",
      " [  0 878   6   3   0   5   3   0  52   3]\n",
      " [ 13  10 702  16   7   0  39   6  48   2]\n",
      " [  4  14  31 737   0  14  11  12  51  28]\n",
      " [  3   2   7   1 615   3  19   5  35 130]\n",
      " [ 19   5   9 102  17 487  12   2  72  21]\n",
      " [  5  12  11   0   8  13 760   0   5   0]\n",
      " [  5  18   9   3  20   1   0 747  33  74]\n",
      " [  4  36   7  44   6  29   5   1 589  25]\n",
      " [  3   4   1  10  53   3   0  22  30 725]]\n"
     ]
    },
    {
     "data": {
      "image/png": "[encoded data removed]",
      "text/plain": [
       "<Figure size 640x480 with 2 Axes>"
      ]
     },
     "metadata": {},
     "output_type": "display_data"
    },
    {
     "name": "stdout",
     "output_type": "stream",
     "text": [
      "              precision    recall  f1-score   support\n",
      "\n",
      "           0       0.93      0.92      0.92       818\n",
      "           1       0.90      0.92      0.91       950\n",
      "           2       0.89      0.83      0.86       843\n",
      "           3       0.80      0.82      0.81       902\n",
      "           4       0.84      0.75      0.79       820\n",
      "           5       0.86      0.65      0.74       746\n",
      "           6       0.88      0.93      0.91       814\n",
      "           7       0.94      0.82      0.88       910\n",
      "           8       0.62      0.79      0.69       746\n",
      "           9       0.72      0.85      0.78       851\n",
      "\n",
      "    accuracy                           0.83      8400\n",
      "   macro avg       0.84      0.83      0.83      8400\n",
      "weighted avg       0.84      0.83      0.83      8400\n",
      "\n"
     ]
    }
   ],
   "source": [
    "# Predict values for the test set\n",
    "y_pred_test = ModelNB.predict(X_test)\n",
    "# Print a confusion matrix and classification report\n",
    "print(confusion_matrix(y_test,y_pred_test))\n",
    "\n",
    "cf = confusion_matrix(y_test,y_pred_test)\n",
    "matrix = ConfusionMatrixDisplay(cf)\n",
    "matrix.plot()\n",
    "plt.show()\n",
    "\n",
    "print(classification_report(y_test,y_pred_test))"
   ]
  },
  {
   "cell_type": "code",
   "execution_count": 47,
   "metadata": {},
   "outputs": [
    {
     "name": "stderr",
     "output_type": "stream",
     "text": [
      "/home/guest/miniconda3/envs/bit07/lib/python3.9/site-packages/sklearn/utils/optimize.py:210: ConvergenceWarning: newton-cg failed to converge. Increase the number of iterations.\n",
      "  warnings.warn(\n"
     ]
    },
    {
     "name": "stdout",
     "output_type": "stream",
     "text": [
      "Train score: 0.9600297619047619\n",
      "Test score: 0.9600297619047619\n",
      "[[753   0  11   4   6  20  14   4   2   4]\n",
      " [  0 907   7   2   2   4   1   3  21   3]\n",
      " [ 10  16 736  22   7   7  11  14  16   4]\n",
      " [  8   3  19 783   1  37   5  10  21  15]\n",
      " [  4   3  15   4 730   3  12   9  10  30]\n",
      " [  9   7   9  30  12 639  13   2  15  10]\n",
      " [ 10   5  20   0  14   9 753   0   2   1]\n",
      " [  3   8  14   5  11   1   0 832   2  34]\n",
      " [  7  19  14  18   2  24   5   4 643  10]\n",
      " [  4   5   2   9  31   7   0  20   6 767]]\n"
     ]
    },
    {
     "data": {
      "image/png": "[encoded data removed]",
      "text/plain": [
       "<Figure size 640x480 with 2 Axes>"
      ]
     },
     "metadata": {},
     "output_type": "display_data"
    },
    {
     "name": "stdout",
     "output_type": "stream",
     "text": [
      "              precision    recall  f1-score   support\n",
      "\n",
      "           0       0.93      0.92      0.93       818\n",
      "           1       0.93      0.95      0.94       950\n",
      "           2       0.87      0.87      0.87       843\n",
      "           3       0.89      0.87      0.88       902\n",
      "           4       0.89      0.89      0.89       820\n",
      "           5       0.85      0.86      0.85       746\n",
      "           6       0.93      0.93      0.93       814\n",
      "           7       0.93      0.91      0.92       910\n",
      "           8       0.87      0.86      0.87       746\n",
      "           9       0.87      0.90      0.89       851\n",
      "\n",
      "    accuracy                           0.90      8400\n",
      "   macro avg       0.90      0.90      0.90      8400\n",
      "weighted avg       0.90      0.90      0.90      8400\n",
      "\n"
     ]
    }
   ],
   "source": [
    "# Also try it using a logistic regression model\n",
    "# Train a logistic regression model on the data and test it as you did for the naive bayes model\n",
    "LogModel = LogisticRegression(penalty=\"l2\", C = 5, class_weight= \"balanced\", solver = 'newton-cg')\n",
    "\n",
    "LogModel.fit(X_train,y_train)\n",
    "\n",
    "print(f\"Train score: {LogModel.score(X_train,y_train)}\")\n",
    "print(f\"Test score: {LogModel.score(X_train,y_train)}\")\n",
    "\n",
    "y_test_pred = LogModel.predict(X_test)\n",
    "\n",
    "# Print a confusion matrix and classification report\n",
    "print(confusion_matrix(y_test,y_test_pred))\n",
    "\n",
    "cf = confusion_matrix(y_test,y_test_pred)\n",
    "matrix = ConfusionMatrixDisplay(cf)\n",
    "matrix.plot()\n",
    "plt.show()\n",
    "\n",
    "print(classification_report(y_test,y_test_pred))"
   ]
  },
  {
   "cell_type": "markdown",
   "metadata": {},
   "source": [
    "Following code let's you draw a number and predict it using your model\n",
    "\n",
    "The model should be called 'model' or be renamed in the code below\n",
    "\n",
    "Note that you need packages pillow and tkinter\n",
    "\n",
    "`conda install pillow tk` or `pip3 install pillow tk` or `sudo dnf install python3-pillow python3-tkinter`"
   ]
  },
  {
   "cell_type": "code",
   "execution_count": null,
   "metadata": {},
   "outputs": [],
   "source": [
    "from PIL import ImageTk, Image, ImageDraw\n",
    "import PIL\n",
    "from tkinter import *\n",
    "\n",
    "width = 280  # canvas width\n",
    "height = 280 # canvas height\n",
    "center = height//2\n",
    "white = (255) # canvas back\n",
    "\n",
    "def predict():\n",
    "    op2 = PIL.ImageChops.invert(output_image)\n",
    "    op2=op2.resize((28,28),resample=3)\n",
    "    # Show the image\n",
    "    plt.imshow(op2,cmap='Greys')\n",
    "    op2_array = np.asarray(op2).reshape(1,-1)\n",
    "    print(model.predict(op2_array))\n",
    "    \n",
    "def clear():\n",
    "    plt.close()\n",
    "    canvas.delete(\"all\")\n",
    "    draw.rectangle((0,0,width,height),fill=255)\n",
    "    \n",
    "def paint(event):\n",
    "    x1, y1 = (event.x - 1), (event.y - 1)\n",
    "    x2, y2 = (event.x + 1), (event.y + 1)\n",
    "    canvas.create_oval(x1, y1, x2, y2, fill=\"black\",width=25)\n",
    "    draw.line([x1, y1, x2, y2],fill=\"black\",width=25)\n",
    "\n",
    "master = Tk()\n",
    "\n",
    "# create a tkinter canvas to draw on\n",
    "canvas = Canvas(master, width=width, height=height, bg='white')\n",
    "canvas.pack()\n",
    "\n",
    "# create an empty PIL image and draw object to draw on\n",
    "output_image = PIL.Image.new(\"L\", (width, height), white)\n",
    "draw = ImageDraw.Draw(output_image)\n",
    "canvas.pack(expand=YES, fill=BOTH)\n",
    "canvas.bind(\"<B1-Motion>\", paint)\n",
    "\n",
    "# add a button to save the image\n",
    "button=Button(text=\"predict\",command=predict)\n",
    "button.pack()\n",
    "button=Button(text=\"clear\",command=clear)\n",
    "button.pack()\n",
    "\n",
    "master.mainloop()"
   ]
  }
 ],
 "metadata": {
  "kernelspec": {
   "display_name": "Python 3 (ipykernel)",
   "language": "python",
   "name": "python3"
  },
  "language_info": {
   "codemirror_mode": {
    "name": "ipython",
    "version": 3
   },
   "file_extension": ".py",
   "mimetype": "text/x-python",
   "name": "python",
   "nbconvert_exporter": "python",
   "pygments_lexer": "ipython3",
   "version": "3.9.16"
  }
 },
 "nbformat": 4,
 "nbformat_minor": 2
}
