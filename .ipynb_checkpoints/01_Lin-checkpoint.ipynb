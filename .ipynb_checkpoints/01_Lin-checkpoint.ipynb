{
 "cells": [
  {
   "cell_type": "markdown",
   "metadata": {},
   "source": [
    "# Linear regression\n",
    "The goal of regression is to perform predictions of continuous values using a trained model. We want to find a relationship between one or multiple features and a specific output variable we call 'y'. \n",
    "\n",
    "This relationship is a multidimensional curve in the shape of $y=\\theta_nX_n+...\\theta_1X_1+\\theta_0$. The vector X is the set of features and the set $\\theta$ are called the parameters.\n",
    "\n",
    "The goals of this exercise are:\n",
    "* Read in data and process it using the pandas library\n",
    "* Perform simple statistic analyses on the data to detect inconsistencies of the data and see correlations between features and/or target\n",
    "* Correctly splitting data in a training and test set\n",
    "* The ability to normalize data\n",
    "* Training a regression model\n",
    "* Evaluating a regression model\n",
    "* Detect over- and underfitting\n",
    "* Apply L1 and L2 regularisation to prevent over- and underfitting\n"
   ]
  },
  {
   "cell_type": "code",
   "execution_count": 1,
   "metadata": {},
   "outputs": [],
   "source": [
    "%matplotlib inline\n",
    "import matplotlib.pyplot as plt                                             # To create plots\n",
    "import seaborn as sns                                                       # Make seaborn plots\n",
    "import numpy as np                                                          # To perform calculations quickly\n",
    "import pandas as pd                                                         # To load in and manipulate data\n",
    "from sklearn.linear_model import LinearRegression, Lasso, Ridge             # Built in datasets and linear models\n",
    "from sklearn.model_selection import train_test_split                        # Splitting in train and test set\n",
    "from sklearn.metrics import mean_absolute_error,mean_squared_error,r2_score # Metrics used to test the model\n",
    "from sklearn.metrics import roc_curve                                       # Used to create ROC_curve\n",
    "from sklearn.preprocessing import PolynomialFeatures                        # Used to construct higher order features\n",
    "from sklearn.preprocessing import StandardScaler,MinMaxScaler, RobustScaler # Different scalers that can be used"
   ]
  },
  {
   "cell_type": "markdown",
   "metadata": {},
   "source": [
    "## Life expectancy\n",
    "The Global Health Observatory (GHO) data repository under World Health Organization (WHO) keeps track of the health status as well as many other related factors for all countries The data-sets are made available to public for the purpose of health data analysis. The data-set related to life expectancy, health factors for 193 countries has been collected from the same WHO data repository website and its corresponding economic data was collected from United Nation website.\n",
    "\n",
    "More information: https://www.kaggle.com/augustus0498/life-expectancy-who\n",
    "\n",
    "**Metadata**\n",
    "* Country - Country\n",
    "* Year - Year\n",
    "* Status - Developed or Developing status\n",
    "* Lifeexpectancy - Life Expectancy in age\n",
    "* AdultMortality - Adult Mortality Rates of both sexes (probability of dying between 15 and 60 years per 1000 population)\n",
    "* infantdeaths - Number of Infant Deaths per 1000 population\n",
    "* Alcohol - Alcohol, recorded per capita (15+) consumption (in litres of pure alcohol)\n",
    "* percentageexpenditure - Expenditure on health as a percentage of Gross Domestic Product per capita(%)\n",
    "* HepatitisB - Hepatitis B (HepB) immunization coverage among 1-year-olds (%)\n",
    "* Measles - Measles - number of reported cases per 1000 population\n",
    "* BMI - Average Body Mass Index of entire population\n",
    "* under-fivedeaths - Number of under-five deaths per 1000 population\n",
    "* Polio - Polio (Pol3) immunization coverage among 1-year-olds (%)\n",
    "* Totalexpenditure - General government expenditure on health as a percentage of total government expenditure (%)\n",
    "* Diphtheria - Diphtheria tetanus toxoid and pertussis (DTP3) immunization coverage among 1-year-olds (%)\n",
    "* HIV/AIDS - Deaths per 1 000 live births HIV/AIDS (0-4 years)\n",
    "* GDP - Gross Domestic Product per capita (in USD)\n",
    "* Population - Population of the country\n",
    "* thinness1-19years - Prevalence of thinness among children and adolescents for Age 10 to 19 (% )\n",
    "* thinness5-9years - Prevalence of thinness among children for Age 5 to 9(%)\n",
    "* Incomecompositionofresources - Human Development Index in terms of income composition of resources (index ranging from 0 to 1)\n",
    "* Schooling - Number of years of Schooling(years)"
   ]
  },
  {
   "cell_type": "code",
   "execution_count": null,
   "metadata": {},
   "outputs": [],
   "source": [
    "# Read the dataset from csv\n",
    "data = pd.read_csv(\"data/\")\n",
    "# Show first 10 rows of the dataframe\n"
   ]
  },
  {
   "cell_type": "code",
   "execution_count": null,
   "metadata": {},
   "outputs": [],
   "source": [
    "# Show the number of rows and columns in the df (the shape of the df)\n",
    "\n",
    "# Summarize the dataframe (describe)\n"
   ]
  },
  {
   "cell_type": "code",
   "execution_count": null,
   "metadata": {},
   "outputs": [],
   "source": [
    "# Due to a lot of missing data in the Population column, we will remove this column\n",
    "\n",
    "# Also remove the Country column\n"
   ]
  },
  {
   "cell_type": "code",
   "execution_count": null,
   "metadata": {},
   "outputs": [],
   "source": [
    "# Remove all rows with NA values (https://pandas.pydata.org/docs/reference/api/pandas.DataFrame.dropna.html)\n",
    "\n",
    "# Take a new look at the shape of the df (to see if/how many rows were removed)\n"
   ]
  },
  {
   "cell_type": "code",
   "execution_count": null,
   "metadata": {},
   "outputs": [],
   "source": [
    "# Take a look at all possible values of the status column\n",
    "# Hint: use the \"unique\" function from pandas \n"
   ]
  },
  {
   "cell_type": "code",
   "execution_count": null,
   "metadata": {},
   "outputs": [],
   "source": [
    "# Based on the information above: replace the possible values with 0 and 1\n",
    "# Hint: https://pandas.pydata.org/docs/reference/api/pandas.DataFrame.replace.html\n",
    "# Take a look at dict-like replacement\n"
   ]
  },
  {
   "cell_type": "code",
   "execution_count": null,
   "metadata": {},
   "outputs": [],
   "source": [
    "# Remove outliers based on the zscore\n",
    "# zscore gives you the number of standard deviations difference between the value and the mean value of the column\n",
    "# In this example: remove outliers that are more than 5 standard deviations (z-score > 5) from the mean\n",
    "\n",
    "# Use the following function to determine the zscore for each value\n",
    "from scipy.stats import zscore\n",
    "\n",
    "# Remove the outliers (example code)\n",
    "data_no_outliers = data[(zscore(data)<=5).all(axis=1)]\n",
    "\n",
    "# Take a look at the new shape of the dataframe\n",
    "data_no_outliers.shape"
   ]
  },
  {
   "cell_type": "code",
   "execution_count": null,
   "metadata": {},
   "outputs": [],
   "source": [
    "# Look at the correlations between multiple features by displaying a correlation plot (in heatmap form)\n",
    "\n",
    "\n",
    "# Formulate a few conclusions based on this plot.\n",
    "# Which features have a strong correlation with Lifeexpactancy\n",
    "# Which features are strongly correlated between each other\n",
    "\n",
    "# If you had to remove a few features, which ones would you choose and why?"
   ]
  },
  {
   "cell_type": "code",
   "execution_count": null,
   "metadata": {},
   "outputs": [],
   "source": [
    "# Also take a look at the pairplot between features. (Takes some time to generate)\n",
    "\n",
    "\n",
    "\n",
    "#Formulate a few conclusions based on this plot"
   ]
  },
  {
   "cell_type": "code",
   "execution_count": null,
   "metadata": {},
   "outputs": [],
   "source": [
    "# Split the data into features and targets\n",
    "\n"
   ]
  },
  {
   "cell_type": "code",
   "execution_count": null,
   "metadata": {},
   "outputs": [],
   "source": [
    "# Create dummy columns for the Year column\n",
    "# This because we would like the Year column to be treated as a categorical column\n",
    "# Take a look at https://pandas.pydata.org/docs/reference/api/pandas.get_dummies.html\n",
    "# Specify the year column with columns=[\"Year\"] parameter\n",
    "\n"
   ]
  },
  {
   "cell_type": "code",
   "execution_count": null,
   "metadata": {},
   "outputs": [],
   "source": [
    "# Take a look at the first rows of the features df\n"
   ]
  },
  {
   "cell_type": "code",
   "execution_count": null,
   "metadata": {},
   "outputs": [],
   "source": [
    "# Split the data into a training and a test set\n",
    "# Take about 20% of the data as test set\n"
   ]
  },
  {
   "cell_type": "code",
   "execution_count": null,
   "metadata": {},
   "outputs": [],
   "source": [
    "# Create a linear regression model and fit the data\n",
    "\n"
   ]
  },
  {
   "cell_type": "code",
   "execution_count": null,
   "metadata": {},
   "outputs": [],
   "source": [
    "# Predict new values for the test set\n"
   ]
  },
  {
   "cell_type": "code",
   "execution_count": null,
   "metadata": {},
   "outputs": [],
   "source": [
    "# Evaluate the model using mean absolute error, mean squared error, R2\n",
    "# Check to see if you have under- or overfitting by also calculating these scores for the training set\n",
    "\n",
    "# Formulate a conclusion based on this model, is this a good model, over or underfitted?\n"
   ]
  },
  {
   "cell_type": "markdown",
   "metadata": {},
   "source": [
    "## Model optimalisation\n",
    "Until now we did not do any optimizations like normalization or regularization.\n",
    "\n",
    "Try different regularization techniques (Ridge/Lasso), play also with the alpha levels of the model."
   ]
  },
  {
   "cell_type": "code",
   "execution_count": null,
   "metadata": {},
   "outputs": [],
   "source": [
    "# Try different possibilities yourself"
   ]
  },
  {
   "cell_type": "markdown",
   "metadata": {},
   "source": [
    "### Also try around with higher order features"
   ]
  },
  {
   "cell_type": "code",
   "execution_count": null,
   "metadata": {},
   "outputs": [],
   "source": [
    "# Add in some higher order features and train some models"
   ]
  }
 ],
 "metadata": {
  "kernelspec": {
   "display_name": "Python 3 (ipykernel)",
   "language": "python",
   "name": "python3"
  },
  "language_info": {
   "codemirror_mode": {
    "name": "ipython",
    "version": 3
   },
   "file_extension": ".py",
   "mimetype": "text/x-python",
   "name": "python",
   "nbconvert_exporter": "python",
   "pygments_lexer": "ipython3",
   "version": "3.10.6"
  }
 },
 "nbformat": 4,
 "nbformat_minor": 2
}
