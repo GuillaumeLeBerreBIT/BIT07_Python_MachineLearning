{
 "cells": [
  {
   "cell_type": "code",
   "execution_count": 1,
   "metadata": {},
   "outputs": [],
   "source": [
    "%matplotlib inline\n",
    "import pandas as pd\n",
    "import matplotlib.pyplot as plt\n",
    "from sklearn.model_selection import train_test_split\n",
    "from sklearn.metrics import classification_report,confusion_matrix\n",
    "from sklearn.linear_model import LogisticRegression\n",
    "from sklearn.naive_bayes import MultinomialNB\n",
    "import seaborn as sns\n",
    "import numpy as np"
   ]
  },
  {
   "cell_type": "markdown",
   "metadata": {},
   "source": [
    "# Cancer Inhibitors dataset\n",
    "Following dataset is coming from https://www.kaggle.com/xiaotawkaggle/inhibitors\n",
    "\n",
    "On Leho there is an adapted csv of the cdk2.h5 dataset. The adaptations I already did for you was extracting the data out of the .h5 file. Renaming the columns, add in the IDs of each of the compounds (row names) and combine it with the target into a .csv file.\n",
    "\n",
    "For cdk2, 1890 potential inhibitors are collected from chembl database, in which molecules with IC50 lower than 10 uM are usually considered as inhibitors, otherwise non-inhibitors.\n",
    "\n",
    "The rownames represent the CHEMBL Id, which can be used to search the CHEMBL database: https://www.ebi.ac.uk/chembl/\n",
    "\n",
    "The features are split into 3 categories that represent three different sets of molecular fingerprints calculated by RDKIT. For more information: http://www.rdkit.org/docs/GettingStartedInPython.html#topological-fingerprints\n",
    "* ap: Atom Pairs\n",
    "* mg: Morgan Fingerprints (Circular Fingerprints)\n",
    "* tt: Topological Torsions\n",
    "\n",
    "The actual values represent if a molecular fingerprint is present in a specific molecule or not (1: present, 0: not present)\n",
    "\n",
    "The target column indicated if the molecule is considered an inhibitor or not."
   ]
  },
  {
   "cell_type": "code",
   "execution_count": 3,
   "metadata": {},
   "outputs": [
    {
     "data": {
      "text/html": [
       "<div>\n",
       "<style scoped>\n",
       "    .dataframe tbody tr th:only-of-type {\n",
       "        vertical-align: middle;\n",
       "    }\n",
       "\n",
       "    .dataframe tbody tr th {\n",
       "        vertical-align: top;\n",
       "    }\n",
       "\n",
       "    .dataframe thead th {\n",
       "        text-align: right;\n",
       "    }\n",
       "</style>\n",
       "<table border=\"1\" class=\"dataframe\">\n",
       "  <thead>\n",
       "    <tr style=\"text-align: right;\">\n",
       "      <th></th>\n",
       "      <th>ap_1</th>\n",
       "      <th>ap_2</th>\n",
       "      <th>ap_3</th>\n",
       "      <th>ap_4</th>\n",
       "      <th>ap_5</th>\n",
       "      <th>ap_6</th>\n",
       "      <th>ap_7</th>\n",
       "      <th>ap_8</th>\n",
       "      <th>ap_9</th>\n",
       "      <th>ap_10</th>\n",
       "      <th>...</th>\n",
       "      <th>tt_2031</th>\n",
       "      <th>tt_2032</th>\n",
       "      <th>tt_2033</th>\n",
       "      <th>tt_2034</th>\n",
       "      <th>tt_2035</th>\n",
       "      <th>tt_2036</th>\n",
       "      <th>tt_2037</th>\n",
       "      <th>tt_2038</th>\n",
       "      <th>tt_2039</th>\n",
       "      <th>target</th>\n",
       "    </tr>\n",
       "  </thead>\n",
       "  <tbody>\n",
       "    <tr>\n",
       "      <th>CHEMBL405042</th>\n",
       "      <td>0</td>\n",
       "      <td>0</td>\n",
       "      <td>0</td>\n",
       "      <td>0</td>\n",
       "      <td>0</td>\n",
       "      <td>0</td>\n",
       "      <td>0</td>\n",
       "      <td>0</td>\n",
       "      <td>0</td>\n",
       "      <td>0</td>\n",
       "      <td>...</td>\n",
       "      <td>0</td>\n",
       "      <td>0</td>\n",
       "      <td>0</td>\n",
       "      <td>0</td>\n",
       "      <td>0</td>\n",
       "      <td>0</td>\n",
       "      <td>0</td>\n",
       "      <td>0</td>\n",
       "      <td>0</td>\n",
       "      <td>1</td>\n",
       "    </tr>\n",
       "    <tr>\n",
       "      <th>CHEMBL258805</th>\n",
       "      <td>0</td>\n",
       "      <td>0</td>\n",
       "      <td>0</td>\n",
       "      <td>0</td>\n",
       "      <td>0</td>\n",
       "      <td>0</td>\n",
       "      <td>0</td>\n",
       "      <td>0</td>\n",
       "      <td>0</td>\n",
       "      <td>0</td>\n",
       "      <td>...</td>\n",
       "      <td>0</td>\n",
       "      <td>0</td>\n",
       "      <td>0</td>\n",
       "      <td>0</td>\n",
       "      <td>0</td>\n",
       "      <td>0</td>\n",
       "      <td>0</td>\n",
       "      <td>0</td>\n",
       "      <td>0</td>\n",
       "      <td>1</td>\n",
       "    </tr>\n",
       "    <tr>\n",
       "      <th>CHEMBL318485</th>\n",
       "      <td>1</td>\n",
       "      <td>0</td>\n",
       "      <td>0</td>\n",
       "      <td>0</td>\n",
       "      <td>0</td>\n",
       "      <td>0</td>\n",
       "      <td>0</td>\n",
       "      <td>0</td>\n",
       "      <td>0</td>\n",
       "      <td>0</td>\n",
       "      <td>...</td>\n",
       "      <td>0</td>\n",
       "      <td>0</td>\n",
       "      <td>0</td>\n",
       "      <td>0</td>\n",
       "      <td>0</td>\n",
       "      <td>0</td>\n",
       "      <td>0</td>\n",
       "      <td>1</td>\n",
       "      <td>0</td>\n",
       "      <td>0</td>\n",
       "    </tr>\n",
       "    <tr>\n",
       "      <th>CHEMBL260417</th>\n",
       "      <td>0</td>\n",
       "      <td>0</td>\n",
       "      <td>0</td>\n",
       "      <td>0</td>\n",
       "      <td>0</td>\n",
       "      <td>0</td>\n",
       "      <td>0</td>\n",
       "      <td>0</td>\n",
       "      <td>0</td>\n",
       "      <td>0</td>\n",
       "      <td>...</td>\n",
       "      <td>0</td>\n",
       "      <td>0</td>\n",
       "      <td>0</td>\n",
       "      <td>0</td>\n",
       "      <td>0</td>\n",
       "      <td>0</td>\n",
       "      <td>0</td>\n",
       "      <td>0</td>\n",
       "      <td>0</td>\n",
       "      <td>1</td>\n",
       "    </tr>\n",
       "    <tr>\n",
       "      <th>CHEMBL101557</th>\n",
       "      <td>1</td>\n",
       "      <td>0</td>\n",
       "      <td>0</td>\n",
       "      <td>0</td>\n",
       "      <td>0</td>\n",
       "      <td>0</td>\n",
       "      <td>0</td>\n",
       "      <td>0</td>\n",
       "      <td>0</td>\n",
       "      <td>0</td>\n",
       "      <td>...</td>\n",
       "      <td>0</td>\n",
       "      <td>0</td>\n",
       "      <td>0</td>\n",
       "      <td>0</td>\n",
       "      <td>0</td>\n",
       "      <td>0</td>\n",
       "      <td>0</td>\n",
       "      <td>1</td>\n",
       "      <td>0</td>\n",
       "      <td>0</td>\n",
       "    </tr>\n",
       "    <tr>\n",
       "      <th>CHEMBL48614</th>\n",
       "      <td>0</td>\n",
       "      <td>3</td>\n",
       "      <td>0</td>\n",
       "      <td>0</td>\n",
       "      <td>0</td>\n",
       "      <td>0</td>\n",
       "      <td>0</td>\n",
       "      <td>0</td>\n",
       "      <td>0</td>\n",
       "      <td>0</td>\n",
       "      <td>...</td>\n",
       "      <td>0</td>\n",
       "      <td>0</td>\n",
       "      <td>0</td>\n",
       "      <td>0</td>\n",
       "      <td>0</td>\n",
       "      <td>0</td>\n",
       "      <td>0</td>\n",
       "      <td>0</td>\n",
       "      <td>0</td>\n",
       "      <td>1</td>\n",
       "    </tr>\n",
       "    <tr>\n",
       "      <th>CHEMBL72510</th>\n",
       "      <td>0</td>\n",
       "      <td>0</td>\n",
       "      <td>0</td>\n",
       "      <td>0</td>\n",
       "      <td>0</td>\n",
       "      <td>0</td>\n",
       "      <td>0</td>\n",
       "      <td>0</td>\n",
       "      <td>0</td>\n",
       "      <td>0</td>\n",
       "      <td>...</td>\n",
       "      <td>0</td>\n",
       "      <td>0</td>\n",
       "      <td>0</td>\n",
       "      <td>0</td>\n",
       "      <td>0</td>\n",
       "      <td>0</td>\n",
       "      <td>0</td>\n",
       "      <td>0</td>\n",
       "      <td>0</td>\n",
       "      <td>1</td>\n",
       "    </tr>\n",
       "    <tr>\n",
       "      <th>CHEMBL411426</th>\n",
       "      <td>0</td>\n",
       "      <td>0</td>\n",
       "      <td>0</td>\n",
       "      <td>0</td>\n",
       "      <td>0</td>\n",
       "      <td>0</td>\n",
       "      <td>0</td>\n",
       "      <td>0</td>\n",
       "      <td>0</td>\n",
       "      <td>0</td>\n",
       "      <td>...</td>\n",
       "      <td>0</td>\n",
       "      <td>0</td>\n",
       "      <td>0</td>\n",
       "      <td>0</td>\n",
       "      <td>0</td>\n",
       "      <td>0</td>\n",
       "      <td>0</td>\n",
       "      <td>0</td>\n",
       "      <td>0</td>\n",
       "      <td>1</td>\n",
       "    </tr>\n",
       "    <tr>\n",
       "      <th>CHEMBL101558</th>\n",
       "      <td>1</td>\n",
       "      <td>0</td>\n",
       "      <td>0</td>\n",
       "      <td>0</td>\n",
       "      <td>0</td>\n",
       "      <td>0</td>\n",
       "      <td>0</td>\n",
       "      <td>0</td>\n",
       "      <td>0</td>\n",
       "      <td>0</td>\n",
       "      <td>...</td>\n",
       "      <td>0</td>\n",
       "      <td>0</td>\n",
       "      <td>0</td>\n",
       "      <td>0</td>\n",
       "      <td>0</td>\n",
       "      <td>0</td>\n",
       "      <td>0</td>\n",
       "      <td>1</td>\n",
       "      <td>0</td>\n",
       "      <td>0</td>\n",
       "    </tr>\n",
       "    <tr>\n",
       "      <th>CHEMBL260103</th>\n",
       "      <td>0</td>\n",
       "      <td>0</td>\n",
       "      <td>0</td>\n",
       "      <td>0</td>\n",
       "      <td>0</td>\n",
       "      <td>0</td>\n",
       "      <td>0</td>\n",
       "      <td>0</td>\n",
       "      <td>0</td>\n",
       "      <td>0</td>\n",
       "      <td>...</td>\n",
       "      <td>0</td>\n",
       "      <td>0</td>\n",
       "      <td>0</td>\n",
       "      <td>0</td>\n",
       "      <td>0</td>\n",
       "      <td>0</td>\n",
       "      <td>0</td>\n",
       "      <td>0</td>\n",
       "      <td>0</td>\n",
       "      <td>1</td>\n",
       "    </tr>\n",
       "  </tbody>\n",
       "</table>\n",
       "<p>10 rows × 6118 columns</p>\n",
       "</div>"
      ],
      "text/plain": [
       "              ap_1  ap_2  ap_3  ap_4  ap_5  ap_6  ap_7  ap_8  ap_9  ap_10  \\\n",
       "CHEMBL405042     0     0     0     0     0     0     0     0     0      0   \n",
       "CHEMBL258805     0     0     0     0     0     0     0     0     0      0   \n",
       "CHEMBL318485     1     0     0     0     0     0     0     0     0      0   \n",
       "CHEMBL260417     0     0     0     0     0     0     0     0     0      0   \n",
       "CHEMBL101557     1     0     0     0     0     0     0     0     0      0   \n",
       "CHEMBL48614      0     3     0     0     0     0     0     0     0      0   \n",
       "CHEMBL72510      0     0     0     0     0     0     0     0     0      0   \n",
       "CHEMBL411426     0     0     0     0     0     0     0     0     0      0   \n",
       "CHEMBL101558     1     0     0     0     0     0     0     0     0      0   \n",
       "CHEMBL260103     0     0     0     0     0     0     0     0     0      0   \n",
       "\n",
       "              ...  tt_2031  tt_2032  tt_2033  tt_2034  tt_2035  tt_2036  \\\n",
       "CHEMBL405042  ...        0        0        0        0        0        0   \n",
       "CHEMBL258805  ...        0        0        0        0        0        0   \n",
       "CHEMBL318485  ...        0        0        0        0        0        0   \n",
       "CHEMBL260417  ...        0        0        0        0        0        0   \n",
       "CHEMBL101557  ...        0        0        0        0        0        0   \n",
       "CHEMBL48614   ...        0        0        0        0        0        0   \n",
       "CHEMBL72510   ...        0        0        0        0        0        0   \n",
       "CHEMBL411426  ...        0        0        0        0        0        0   \n",
       "CHEMBL101558  ...        0        0        0        0        0        0   \n",
       "CHEMBL260103  ...        0        0        0        0        0        0   \n",
       "\n",
       "              tt_2037  tt_2038  tt_2039  target  \n",
       "CHEMBL405042        0        0        0       1  \n",
       "CHEMBL258805        0        0        0       1  \n",
       "CHEMBL318485        0        1        0       0  \n",
       "CHEMBL260417        0        0        0       1  \n",
       "CHEMBL101557        0        1        0       0  \n",
       "CHEMBL48614         0        0        0       1  \n",
       "CHEMBL72510         0        0        0       1  \n",
       "CHEMBL411426        0        0        0       1  \n",
       "CHEMBL101558        0        1        0       0  \n",
       "CHEMBL260103        0        0        0       1  \n",
       "\n",
       "[10 rows x 6118 columns]"
      ]
     },
     "execution_count": 3,
     "metadata": {},
     "output_type": "execute_result"
    }
   ],
   "source": [
    "# Read in the data, because we have row names in our dataset, use pd.read_csv('filename.csv',index_col=0)\n",
    "data = pd.read_csv(\"data/cdk2.csv\", index_col=0)\n",
    "# Take a look at the first rows of the dataframe\n",
    "data.head(10)"
   ]
  },
  {
   "cell_type": "code",
   "execution_count": 4,
   "metadata": {},
   "outputs": [
    {
     "data": {
      "text/plain": [
       "(1890, 6118)"
      ]
     },
     "execution_count": 4,
     "metadata": {},
     "output_type": "execute_result"
    }
   ],
   "source": [
    "# Take a look at the number of rows and columns in the dataframe\n",
    "data.shape"
   ]
  },
  {
   "cell_type": "code",
   "execution_count": 5,
   "metadata": {},
   "outputs": [
    {
     "data": {
      "text/plain": [
       "<Axes: xlabel='target', ylabel='count'>"
      ]
     },
     "execution_count": 5,
     "metadata": {},
     "output_type": "execute_result"
    },
    {
     "data": {
      "image/png": "[encoded data removed]",
      "text/plain": [
       "<Figure size 640x480 with 1 Axes>"
      ]
     },
     "metadata": {},
     "output_type": "display_data"
    }
   ],
   "source": [
    "# Plot the counts of the target column using  a seaborn countplot\n",
    "sns.countplot(data, x = \"target\")"
   ]
  },
  {
   "cell_type": "code",
   "execution_count": 6,
   "metadata": {},
   "outputs": [
    {
     "data": {
      "text/plain": [
       "<Axes: xlabel='ap_1', ylabel='count'>"
      ]
     },
     "execution_count": 6,
     "metadata": {},
     "output_type": "execute_result"
    },
    {
     "data": {
      "image/png": "[encoded data removed]",
      "text/plain": [
       "<Figure size 640x480 with 1 Axes>"
      ]
     },
     "metadata": {},
     "output_type": "display_data"
    }
   ],
   "source": [
    "# Plot a countplot of the first feature column (ap_1)\n",
    "sns.countplot(data, x = \"ap_1\")"
   ]
  },
  {
   "cell_type": "markdown",
   "metadata": {},
   "source": [
    "**What is noteworthy of the plot above?**\n",
    "The data is pretty unbalanced, a lot of features are labbeled 0 whil the other labels are not present or that much.\n"
   ]
  },
  {
   "cell_type": "markdown",
   "metadata": {},
   "source": [
    "**Notes:**\n",
    "Due to the amount of columns, a df.describe() will not show you a lot of information.\n",
    "\n",
    "Pairplots and corrplots would be gigantic and also not very informative due to it being sparse data.\n",
    "\n",
    "Removing outliers would not be a good idea, since a lot of the values that are different from 0 would already be considered outliers, whilst these are just the informative things.\n",
    "    "
   ]
  },
  {
   "cell_type": "code",
   "execution_count": 7,
   "metadata": {},
   "outputs": [],
   "source": [
    "# Split into features and targets\n",
    "X = data.drop(\"target\", axis = 1)\n",
    "y = data[\"target\"]"
   ]
  },
  {
   "cell_type": "code",
   "execution_count": 13,
   "metadata": {},
   "outputs": [],
   "source": [
    "# Split into training and test set. Keep +-20% as a test_set\n",
    "X_train, X_test, y_train, y_test = train_test_split(X, y, test_size=0.2)"
   ]
  },
  {
   "cell_type": "code",
   "execution_count": 14,
   "metadata": {},
   "outputs": [
    {
     "name": "stdout",
     "output_type": "stream",
     "text": [
      " The test score of the train model: 0.796957671957672\n",
      " The test score of the train model: 0.7592592592592593\n"
     ]
    }
   ],
   "source": [
    "# Create a multinomial naive bayes classifier\n",
    "NBMod = MultinomialNB(alpha=1)\n",
    "\n",
    "\n",
    "# Fit the training data\n",
    "NBMod.fit(X_train, y_train)\n",
    "\n",
    "# Show the score of the test data\n",
    "print(f\" The test score of the train model: {NBMod.score(X_train, y_train)}\")\n",
    "print(f\" The test score of the train model: {NBMod.score(X_test, y_test)}\")"
   ]
  },
  {
   "cell_type": "code",
   "execution_count": 21,
   "metadata": {},
   "outputs": [],
   "source": [
    "from sklearn.metrics import ConfusionMatrixDisplay"
   ]
  },
  {
   "cell_type": "code",
   "execution_count": 24,
   "metadata": {},
   "outputs": [
    {
     "name": "stdout",
     "output_type": "stream",
     "text": [
      "The Test model:\n",
      "[[ 89  18]\n",
      " [ 73 198]]\n",
      "The Train model:\n",
      "[[422  90]\n",
      " [217 783]]\n",
      "==============================\n",
      "Y-TEST SET\n",
      "==============================\n"
     ]
    },
    {
     "data": {
      "image/png": "[encoded data removed]",
      "text/plain": [
       "<Figure size 640x480 with 2 Axes>"
      ]
     },
     "metadata": {},
     "output_type": "display_data"
    },
    {
     "name": "stdout",
     "output_type": "stream",
     "text": [
      "==============================\n",
      "Y-TRAIN SET\n",
      "==============================\n"
     ]
    },
    {
     "data": {
      "image/png": "[encoded data removed]",
      "text/plain": [
       "<Figure size 640x480 with 2 Axes>"
      ]
     },
     "metadata": {},
     "output_type": "display_data"
    },
    {
     "name": "stdout",
     "output_type": "stream",
     "text": [
      "\n",
      "Classification report TEST:\n",
      "              precision    recall  f1-score   support\n",
      "\n",
      "           0       0.55      0.83      0.66       107\n",
      "           1       0.92      0.73      0.81       271\n",
      "\n",
      "    accuracy                           0.76       378\n",
      "   macro avg       0.73      0.78      0.74       378\n",
      "weighted avg       0.81      0.76      0.77       378\n",
      "\n",
      "\n",
      "Classification report TRAIN:\n",
      "              precision    recall  f1-score   support\n",
      "\n",
      "           0       0.66      0.82      0.73       512\n",
      "           1       0.90      0.78      0.84      1000\n",
      "\n",
      "    accuracy                           0.80      1512\n",
      "   macro avg       0.78      0.80      0.78      1512\n",
      "weighted avg       0.82      0.80      0.80      1512\n",
      "\n"
     ]
    }
   ],
   "source": [
    "# Predict values for the test set\n",
    "y_pred_train = NBMod.predict(X_train)\n",
    "y_pred_test = NBMod.predict(X_test)\n",
    "\n",
    "# Print a confusion matrix and classification report\n",
    "print(f\"The Test model:\\n{confusion_matrix(y_test, y_pred_test)}\")\n",
    "print(f\"The Train model:\\n{confusion_matrix(y_train, y_pred_train)}\")\n",
    "\n",
    "matrix_test = ConfusionMatrixDisplay(confusion_matrix(y_test, y_pred_test) ,display_labels=NBMod.classes_) # Without display_labels it will show class\n",
    "matrix_train = ConfusionMatrixDisplay(confusion_matrix(y_train, y_pred_train) ,display_labels=NBMod.classes_)                                                          \n",
    "\n",
    "print(\"=\"*30 + \"\\nY-TEST SET\\n\" + \"=\"*30)\n",
    "matrix_test.plot()\n",
    "plt.show()\n",
    "print(\"=\"*30 + \"\\nY-TRAIN SET\\n\" + \"=\"*30)\n",
    "matrix_train.plot()\n",
    "plt.show()\n",
    "\n",
    "print(\"\\nClassification report TEST:\")\n",
    "print(classification_report(y_test,y_pred_test))\n",
    "\n",
    "print(\"\\nClassification report TRAIN:\")\n",
    "print(classification_report(y_train,y_pred_train))"
   ]
  },
  {
   "cell_type": "code",
   "execution_count": 28,
   "metadata": {},
   "outputs": [
    {
     "name": "stdout",
     "output_type": "stream",
     "text": [
      " The test score of the train model: 0.9973544973544973\n",
      " The test score of the train model: 0.8915343915343915\n"
     ]
    }
   ],
   "source": [
    "# Train a logistic regression model on the data and test it as you did for the naive bayes model\n",
    "LogMod = LogisticRegression(penalty=\"l2\", C = 2, class_weight=\"balanced\", max_iter=10000)\n",
    "\n",
    "LogMod.fit(X_train,y_train)\n",
    "\n",
    "print(f\" The test score of the train model: {LogMod.score(X_train, y_train)}\")\n",
    "print(f\" The test score of the train model: {LogMod.score(X_test, y_test)}\")"
   ]
  },
  {
   "cell_type": "code",
   "execution_count": 29,
   "metadata": {},
   "outputs": [
    {
     "name": "stdout",
     "output_type": "stream",
     "text": [
      "The Test model:\n",
      "[[ 85  22]\n",
      " [ 19 252]]\n",
      "The Train model:\n",
      "[[509   3]\n",
      " [  1 999]]\n",
      "==============================\n",
      "Y-TEST SET\n",
      "==============================\n"
     ]
    },
    {
     "data": {
      "image/png": "[encoded data removed]",
      "text/plain": [
       "<Figure size 640x480 with 2 Axes>"
      ]
     },
     "metadata": {},
     "output_type": "display_data"
    },
    {
     "name": "stdout",
     "output_type": "stream",
     "text": [
      "==============================\n",
      "Y-TRAIN SET\n",
      "==============================\n"
     ]
    },
    {
     "data": {
      "image/png": "[encoded data removed]",
      "text/plain": [
       "<Figure size 640x480 with 2 Axes>"
      ]
     },
     "metadata": {},
     "output_type": "display_data"
    },
    {
     "name": "stdout",
     "output_type": "stream",
     "text": [
      "\n",
      "Classification report TEST:\n",
      "              precision    recall  f1-score   support\n",
      "\n",
      "           0       0.82      0.79      0.81       107\n",
      "           1       0.92      0.93      0.92       271\n",
      "\n",
      "    accuracy                           0.89       378\n",
      "   macro avg       0.87      0.86      0.87       378\n",
      "weighted avg       0.89      0.89      0.89       378\n",
      "\n",
      "\n",
      "Classification report TRAIN:\n",
      "              precision    recall  f1-score   support\n",
      "\n",
      "           0       1.00      0.99      1.00       512\n",
      "           1       1.00      1.00      1.00      1000\n",
      "\n",
      "    accuracy                           1.00      1512\n",
      "   macro avg       1.00      1.00      1.00      1512\n",
      "weighted avg       1.00      1.00      1.00      1512\n",
      "\n"
     ]
    }
   ],
   "source": [
    "# Predict values for the test set\n",
    "y_pred_train = LogMod.predict(X_train)\n",
    "y_pred_test = LogMod.predict(X_test)\n",
    "\n",
    "# Print a confusion matrix and classification report\n",
    "print(f\"The Test model:\\n{confusion_matrix(y_test, y_pred_test)}\")\n",
    "print(f\"The Train model:\\n{confusion_matrix(y_train, y_pred_train)}\")\n",
    "\n",
    "matrix_test = ConfusionMatrixDisplay(confusion_matrix(y_test, y_pred_test) ,display_labels=NBMod.classes_) # Without display_labels it will show class\n",
    "matrix_train = ConfusionMatrixDisplay(confusion_matrix(y_train, y_pred_train) ,display_labels=NBMod.classes_)                                                          \n",
    "\n",
    "print(\"=\"*30 + \"\\nY-TEST SET\\n\" + \"=\"*30)\n",
    "matrix_test.plot()\n",
    "plt.show()\n",
    "print(\"=\"*30 + \"\\nY-TRAIN SET\\n\" + \"=\"*30)\n",
    "matrix_train.plot()\n",
    "plt.show()\n",
    "\n",
    "print(\"\\nClassification report TEST:\")\n",
    "print(classification_report(y_test,y_pred_test))\n",
    "\n",
    "print(\"\\nClassification report TRAIN:\")\n",
    "print(classification_report(y_train,y_pred_train))"
   ]
  },
  {
   "cell_type": "markdown",
   "metadata": {},
   "source": [
    "Also try and play with the hyperparameters a bit\n",
    "\n",
    "## Conclusion\n",
    "**What can we conclude regarding the metrics of both models**\n",
    "\n",
    "Naive bayes scores less good on the metrics than the logistic regression model.\n",
    "\n",
    "**What can we conclude regarding the time it takes to train the model?**\n",
    "\n",
    "Naive bayes runs a lot faster than the logistic regression algorithm on this sparse data. Escpecially when the C value of the logistic regression model is increased, this gets very noticable. We also need to increase max_iter as to not get a \"value did not converge\" error.\n"
   ]
  },
  {
   "cell_type": "markdown",
   "metadata": {},
   "source": [
    "# MNIST dataset\n",
    "MNIST is the \"hello world\" of AI.\n",
    "\n",
    "MNIST is a dataset containing a lot of handwritten digits. The goal is to correctly identify the written digit from the image. There is a lot of different sets and subsets available online. The data that we will be using is coming from\n",
    "https://www.kaggle.com/c/digit-recognizer/data\n",
    "\n",
    "Each image contains 28x28 pixels => 784 values between 0 (black) and 255 (white)\n",
    "\n",
    "Some initial code is given as to show you how to display the images"
   ]
  },
  {
   "cell_type": "code",
   "execution_count": 30,
   "metadata": {},
   "outputs": [],
   "source": [
    "# Read in the dataset\n",
    "df = pd.read_csv(\"data/MNIST.csv\")"
   ]
  },
  {
   "cell_type": "code",
   "execution_count": 31,
   "metadata": {},
   "outputs": [
    {
     "data": {
      "text/html": [
       "<div>\n",
       "<style scoped>\n",
       "    .dataframe tbody tr th:only-of-type {\n",
       "        vertical-align: middle;\n",
       "    }\n",
       "\n",
       "    .dataframe tbody tr th {\n",
       "        vertical-align: top;\n",
       "    }\n",
       "\n",
       "    .dataframe thead th {\n",
       "        text-align: right;\n",
       "    }\n",
       "</style>\n",
       "<table border=\"1\" class=\"dataframe\">\n",
       "  <thead>\n",
       "    <tr style=\"text-align: right;\">\n",
       "      <th></th>\n",
       "      <th>label</th>\n",
       "      <th>pixel0</th>\n",
       "      <th>pixel1</th>\n",
       "      <th>pixel2</th>\n",
       "      <th>pixel3</th>\n",
       "      <th>pixel4</th>\n",
       "      <th>pixel5</th>\n",
       "      <th>pixel6</th>\n",
       "      <th>pixel7</th>\n",
       "      <th>pixel8</th>\n",
       "      <th>...</th>\n",
       "      <th>pixel774</th>\n",
       "      <th>pixel775</th>\n",
       "      <th>pixel776</th>\n",
       "      <th>pixel777</th>\n",
       "      <th>pixel778</th>\n",
       "      <th>pixel779</th>\n",
       "      <th>pixel780</th>\n",
       "      <th>pixel781</th>\n",
       "      <th>pixel782</th>\n",
       "      <th>pixel783</th>\n",
       "    </tr>\n",
       "  </thead>\n",
       "  <tbody>\n",
       "    <tr>\n",
       "      <th>0</th>\n",
       "      <td>1</td>\n",
       "      <td>0</td>\n",
       "      <td>0</td>\n",
       "      <td>0</td>\n",
       "      <td>0</td>\n",
       "      <td>0</td>\n",
       "      <td>0</td>\n",
       "      <td>0</td>\n",
       "      <td>0</td>\n",
       "      <td>0</td>\n",
       "      <td>...</td>\n",
       "      <td>0</td>\n",
       "      <td>0</td>\n",
       "      <td>0</td>\n",
       "      <td>0</td>\n",
       "      <td>0</td>\n",
       "      <td>0</td>\n",
       "      <td>0</td>\n",
       "      <td>0</td>\n",
       "      <td>0</td>\n",
       "      <td>0</td>\n",
       "    </tr>\n",
       "    <tr>\n",
       "      <th>1</th>\n",
       "      <td>0</td>\n",
       "      <td>0</td>\n",
       "      <td>0</td>\n",
       "      <td>0</td>\n",
       "      <td>0</td>\n",
       "      <td>0</td>\n",
       "      <td>0</td>\n",
       "      <td>0</td>\n",
       "      <td>0</td>\n",
       "      <td>0</td>\n",
       "      <td>...</td>\n",
       "      <td>0</td>\n",
       "      <td>0</td>\n",
       "      <td>0</td>\n",
       "      <td>0</td>\n",
       "      <td>0</td>\n",
       "      <td>0</td>\n",
       "      <td>0</td>\n",
       "      <td>0</td>\n",
       "      <td>0</td>\n",
       "      <td>0</td>\n",
       "    </tr>\n",
       "    <tr>\n",
       "      <th>2</th>\n",
       "      <td>1</td>\n",
       "      <td>0</td>\n",
       "      <td>0</td>\n",
       "      <td>0</td>\n",
       "      <td>0</td>\n",
       "      <td>0</td>\n",
       "      <td>0</td>\n",
       "      <td>0</td>\n",
       "      <td>0</td>\n",
       "      <td>0</td>\n",
       "      <td>...</td>\n",
       "      <td>0</td>\n",
       "      <td>0</td>\n",
       "      <td>0</td>\n",
       "      <td>0</td>\n",
       "      <td>0</td>\n",
       "      <td>0</td>\n",
       "      <td>0</td>\n",
       "      <td>0</td>\n",
       "      <td>0</td>\n",
       "      <td>0</td>\n",
       "    </tr>\n",
       "    <tr>\n",
       "      <th>3</th>\n",
       "      <td>4</td>\n",
       "      <td>0</td>\n",
       "      <td>0</td>\n",
       "      <td>0</td>\n",
       "      <td>0</td>\n",
       "      <td>0</td>\n",
       "      <td>0</td>\n",
       "      <td>0</td>\n",
       "      <td>0</td>\n",
       "      <td>0</td>\n",
       "      <td>...</td>\n",
       "      <td>0</td>\n",
       "      <td>0</td>\n",
       "      <td>0</td>\n",
       "      <td>0</td>\n",
       "      <td>0</td>\n",
       "      <td>0</td>\n",
       "      <td>0</td>\n",
       "      <td>0</td>\n",
       "      <td>0</td>\n",
       "      <td>0</td>\n",
       "    </tr>\n",
       "    <tr>\n",
       "      <th>4</th>\n",
       "      <td>0</td>\n",
       "      <td>0</td>\n",
       "      <td>0</td>\n",
       "      <td>0</td>\n",
       "      <td>0</td>\n",
       "      <td>0</td>\n",
       "      <td>0</td>\n",
       "      <td>0</td>\n",
       "      <td>0</td>\n",
       "      <td>0</td>\n",
       "      <td>...</td>\n",
       "      <td>0</td>\n",
       "      <td>0</td>\n",
       "      <td>0</td>\n",
       "      <td>0</td>\n",
       "      <td>0</td>\n",
       "      <td>0</td>\n",
       "      <td>0</td>\n",
       "      <td>0</td>\n",
       "      <td>0</td>\n",
       "      <td>0</td>\n",
       "    </tr>\n",
       "  </tbody>\n",
       "</table>\n",
       "<p>5 rows × 785 columns</p>\n",
       "</div>"
      ],
      "text/plain": [
       "   label  pixel0  pixel1  pixel2  pixel3  pixel4  pixel5  pixel6  pixel7  \\\n",
       "0      1       0       0       0       0       0       0       0       0   \n",
       "1      0       0       0       0       0       0       0       0       0   \n",
       "2      1       0       0       0       0       0       0       0       0   \n",
       "3      4       0       0       0       0       0       0       0       0   \n",
       "4      0       0       0       0       0       0       0       0       0   \n",
       "\n",
       "   pixel8  ...  pixel774  pixel775  pixel776  pixel777  pixel778  pixel779  \\\n",
       "0       0  ...         0         0         0         0         0         0   \n",
       "1       0  ...         0         0         0         0         0         0   \n",
       "2       0  ...         0         0         0         0         0         0   \n",
       "3       0  ...         0         0         0         0         0         0   \n",
       "4       0  ...         0         0         0         0         0         0   \n",
       "\n",
       "   pixel780  pixel781  pixel782  pixel783  \n",
       "0         0         0         0         0  \n",
       "1         0         0         0         0  \n",
       "2         0         0         0         0  \n",
       "3         0         0         0         0  \n",
       "4         0         0         0         0  \n",
       "\n",
       "[5 rows x 785 columns]"
      ]
     },
     "execution_count": 31,
     "metadata": {},
     "output_type": "execute_result"
    }
   ],
   "source": [
    "# Take a look at the first rows of the dataset\n",
    "df.head()"
   ]
  },
  {
   "cell_type": "code",
   "execution_count": 32,
   "metadata": {},
   "outputs": [
    {
     "data": {
      "text/plain": [
       "<Axes: xlabel='label', ylabel='count'>"
      ]
     },
     "execution_count": 32,
     "metadata": {},
     "output_type": "execute_result"
    },
    {
     "data": {
      "image/png": "[encoded data removed]",
      "text/plain": [
       "<Figure size 640x480 with 1 Axes>"
      ]
     },
     "metadata": {},
     "output_type": "display_data"
    }
   ],
   "source": [
    "# Countplot of the numbers\n",
    "sns.countplot(x=\"label\",data=df)"
   ]
  },
  {
   "cell_type": "code",
   "execution_count": 33,
   "metadata": {},
   "outputs": [],
   "source": [
    "# Split into features and targets\n",
    "X = df.drop(\"label\",axis=1)\n",
    "y = df.label"
   ]
  },
  {
   "cell_type": "code",
   "execution_count": 34,
   "metadata": {},
   "outputs": [
    {
     "name": "stdout",
     "output_type": "stream",
     "text": [
      "Label: 4\n"
     ]
    },
    {
     "data": {
      "image/png": "[encoded data removed]",
      "text/plain": [
       "<Figure size 640x480 with 1 Axes>"
      ]
     },
     "metadata": {},
     "output_type": "display_data"
    }
   ],
   "source": [
    "# Change this value to see another sample\n",
    "row_num_X = 3\n",
    "\n",
    "# Extract the image from X\n",
    "single_image= X.iloc[row_num_X,:]  ## Row row_num_X, column all (:)\n",
    "\n",
    "# Convert the single array of 784 pixels into nested arrays as to creat a 28x28 array\n",
    "# [p0,p1,p2,p3,...,p784] becomes\n",
    "\n",
    "# [[p0,p1,p2,p3,...,p27]\n",
    "#  [p28,p29,p30,    ...]\n",
    "#  ...\n",
    "#  [          ..., p783]]\n",
    "single_image_to_28x28 = single_image.values.reshape(28,28)\n",
    "\n",
    "# Show the image\n",
    "plt.imshow(single_image_to_28x28,cmap='Greys')\n",
    "# Also print the corresponding label\n",
    "print(f\"Label: {y[row_num_X]}\")"
   ]
  },
  {
   "cell_type": "code",
   "execution_count": 35,
   "metadata": {},
   "outputs": [],
   "source": [
    "# Split into training and test set. Keep +-20% as a test_set\n",
    "X_train, X_test, y_train, y_test = train_test_split(X,y,test_size=0.2)"
   ]
  },
  {
   "cell_type": "code",
   "execution_count": 37,
   "metadata": {},
   "outputs": [
    {
     "name": "stdout",
     "output_type": "stream",
     "text": [
      " The test score of the train model: 0.8280952380952381\n",
      " The test score of the train model: 0.8233333333333334\n"
     ]
    }
   ],
   "source": [
    "# Train a multinomial naive bayes model on the data and test it using the test data\n",
    "NB = MultinomialNB(alpha = 5)\n",
    "\n",
    "NB.fit(X_train, y_train)\n",
    "\n",
    "print(f\" The test score of the train model: {NB.score(X_train, y_train)}\")\n",
    "print(f\" The test score of the train model: {NB.score(X_test, y_test)}\")"
   ]
  },
  {
   "cell_type": "code",
   "execution_count": 39,
   "metadata": {},
   "outputs": [
    {
     "name": "stdout",
     "output_type": "stream",
     "text": [
      "The Test model:\n",
      "[[737   0   5   3   2  12  20   0  34   0]\n",
      " [  0 883   6   6   0   2   6   0  42   5]\n",
      " [  7  16 680  21  13   1  36  11  42   3]\n",
      " [  3  16  41 733   1  25  10   6  44  18]\n",
      " [  4   3   9   0 580   3  16   2  33 157]\n",
      " [ 23  10   7  89  22 516  14   0  77  30]\n",
      " [ 11  18  10   2   1  18 717   0  14   0]\n",
      " [  0  10   8   0  20   0   2 733  41  72]\n",
      " [  6  40  10  32   7  26   2   3 643  28]\n",
      " [  4   7   3  13  62   4   0  21  33 694]]\n",
      "The Train model:\n",
      "[[3030    1   17   10    4   34   48    0  169    6]\n",
      " [   0 3492   25   22    2   17   17    2  149    8]\n",
      " [  39   38 2789   72   36    6  152   28  178    9]\n",
      " [  20   61  164 2785    7   69   41   28  173  106]\n",
      " [   9    9   19    2 2423    6   62    7  134  594]\n",
      " [  83   24   23  352   63 1996   70    9  287  100]\n",
      " [  31   54   33    1   25   82 3076    0   44    0]\n",
      " [  23   62   24   13   79    1    4 2895  111  303]\n",
      " [  13  169   40  171   40  129   26   11 2554  113]\n",
      " [  20   25   11   35  237   14    2   84  135 2784]]\n",
      "\n",
      "Classification report TEST:\n",
      "              precision    recall  f1-score   support\n",
      "\n",
      "           0       0.93      0.91      0.92       813\n",
      "           1       0.88      0.93      0.90       950\n",
      "           2       0.87      0.82      0.85       830\n",
      "           3       0.82      0.82      0.82       897\n",
      "           4       0.82      0.72      0.77       807\n",
      "           5       0.85      0.65      0.74       788\n",
      "           6       0.87      0.91      0.89       791\n",
      "           7       0.94      0.83      0.88       886\n",
      "           8       0.64      0.81      0.71       797\n",
      "           9       0.69      0.83      0.75       841\n",
      "\n",
      "    accuracy                           0.82      8400\n",
      "   macro avg       0.83      0.82      0.82      8400\n",
      "weighted avg       0.83      0.82      0.82      8400\n",
      "\n",
      "\n",
      "Classification report TRAIN:\n",
      "              precision    recall  f1-score   support\n",
      "\n",
      "           0       0.93      0.91      0.92      3319\n",
      "           1       0.89      0.94      0.91      3734\n",
      "           2       0.89      0.83      0.86      3347\n",
      "           3       0.80      0.81      0.81      3454\n",
      "           4       0.83      0.74      0.78      3265\n",
      "           5       0.85      0.66      0.74      3007\n",
      "           6       0.88      0.92      0.90      3346\n",
      "           7       0.94      0.82      0.88      3515\n",
      "           8       0.65      0.78      0.71      3266\n",
      "           9       0.69      0.83      0.76      3347\n",
      "\n",
      "    accuracy                           0.83     33600\n",
      "   macro avg       0.83      0.83      0.83     33600\n",
      "weighted avg       0.84      0.83      0.83     33600\n",
      "\n"
     ]
    }
   ],
   "source": [
    "# Predict values for the test set\n",
    "y_pred_train = NB.predict(X_train)\n",
    "y_pred_test = NB.predict(X_test)\n",
    "# Print a confusion matrix and classification report\n",
    "print(f\"The Test model:\\n{confusion_matrix(y_test, y_pred_test)}\")\n",
    "print(f\"The Train model:\\n{confusion_matrix(y_train, y_pred_train)}\")\n",
    "\n",
    "print(\"\\nClassification report TEST:\")\n",
    "print(classification_report(y_test,y_pred_test))\n",
    "\n",
    "print(\"\\nClassification report TRAIN:\")\n",
    "print(classification_report(y_train,y_pred_train))"
   ]
  },
  {
   "cell_type": "code",
   "execution_count": 40,
   "metadata": {},
   "outputs": [
    {
     "name": "stdout",
     "output_type": "stream",
     "text": [
      " The test score of the train model: 0.9605952380952381\n",
      " The test score of the train model: 0.8909523809523809\n"
     ]
    },
    {
     "name": "stderr",
     "output_type": "stream",
     "text": [
      "C:\\Users\\uniro\\AppData\\Local\\Programs\\Python\\Python310\\lib\\site-packages\\sklearn\\linear_model\\_logistic.py:458: ConvergenceWarning: lbfgs failed to converge (status=1):\n",
      "STOP: TOTAL NO. of ITERATIONS REACHED LIMIT.\n",
      "\n",
      "Increase the number of iterations (max_iter) or scale the data as shown in:\n",
      "    https://scikit-learn.org/stable/modules/preprocessing.html\n",
      "Please also refer to the documentation for alternative solver options:\n",
      "    https://scikit-learn.org/stable/modules/linear_model.html#logistic-regression\n",
      "  n_iter_i = _check_optimize_result(\n"
     ]
    }
   ],
   "source": [
    "# Also try it using a logistic regression model\n",
    "LogMod = LogisticRegression(penalty=\"l2\", C = 2, class_weight=\"balanced\", max_iter=10000)\n",
    "\n",
    "LogMod.fit(X_train,y_train)\n",
    "\n",
    "print(f\" The test score of the train model: {LogMod.score(X_train, y_train)}\")\n",
    "print(f\" The test score of the train model: {LogMod.score(X_test, y_test)}\")"
   ]
  },
  {
   "cell_type": "code",
   "execution_count": 42,
   "metadata": {
    "scrolled": false
   },
   "outputs": [
    {
     "name": "stdout",
     "output_type": "stream",
     "text": [
      "The Test model:\n",
      "[[770   0   9   0   1   8  14   1   8   2]\n",
      " [  0 906   8   5   0   4   2   1  18   6]\n",
      " [ 10  22 706  19  15   7  13  11  25   2]\n",
      " [  4   8  27 763   3  43   6  11  20  12]\n",
      " [  4   6   9   4 720   3  16   3   7  35]\n",
      " [ 15  11   8  25  19 641  28   2  28  11]\n",
      " [  9   2  16   2   3  11 741   0   6   1]\n",
      " [  2   6  12   7   6   1   2 812   2  36]\n",
      " [  4  18  11  18   5  22   7   4 697  11]\n",
      " [  4   3   8  15  31   9   0  31  12 728]]\n",
      "The Train model:\n",
      "[[3299    0    3    2    1    3    2    0    9    0]\n",
      " [   0 3710    2    6    0    0    0    2   12    2]\n",
      " [   5    4 3194   34   17   12   10   19   45    7]\n",
      " [   5    1   54 3211    0   89    3   17   52   22]\n",
      " [   0    4   11    0 3155    3   10    7   10   65]\n",
      " [   8    1   12   58   16 2818   20    2   61   11]\n",
      " [   4    3   10    0    8   22 3289    0   10    0]\n",
      " [   0    1   21    7   13    1    1 3384   13   74]\n",
      " [   3   12   22   58    3   57   10    7 3072   22]\n",
      " [   3    4    3   26   58   17    0   72   20 3144]]\n",
      "==============================\n",
      "Y-TEST SET\n",
      "==============================\n"
     ]
    },
    {
     "data": {
      "image/png": "[encoded data removed]",
      "text/plain": [
       "<Figure size 640x480 with 2 Axes>"
      ]
     },
     "metadata": {},
     "output_type": "display_data"
    },
    {
     "name": "stdout",
     "output_type": "stream",
     "text": [
      "==============================\n",
      "Y-TRAIN SET\n",
      "==============================\n"
     ]
    },
    {
     "data": {
      "image/png": "[encoded data removed]",
      "text/plain": [
       "<Figure size 640x480 with 2 Axes>"
      ]
     },
     "metadata": {},
     "output_type": "display_data"
    },
    {
     "name": "stdout",
     "output_type": "stream",
     "text": [
      "\n",
      "Classification report TEST:\n",
      "              precision    recall  f1-score   support\n",
      "\n",
      "           0       0.94      0.95      0.94       813\n",
      "           1       0.92      0.95      0.94       950\n",
      "           2       0.87      0.85      0.86       830\n",
      "           3       0.89      0.85      0.87       897\n",
      "           4       0.90      0.89      0.89       807\n",
      "           5       0.86      0.81      0.83       788\n",
      "           6       0.89      0.94      0.91       791\n",
      "           7       0.93      0.92      0.92       886\n",
      "           8       0.85      0.87      0.86       797\n",
      "           9       0.86      0.87      0.86       841\n",
      "\n",
      "    accuracy                           0.89      8400\n",
      "   macro avg       0.89      0.89      0.89      8400\n",
      "weighted avg       0.89      0.89      0.89      8400\n",
      "\n",
      "\n",
      "Classification report TRAIN:\n",
      "              precision    recall  f1-score   support\n",
      "\n",
      "           0       0.99      0.99      0.99      3319\n",
      "           1       0.99      0.99      0.99      3734\n",
      "           2       0.96      0.95      0.96      3347\n",
      "           3       0.94      0.93      0.94      3454\n",
      "           4       0.96      0.97      0.97      3265\n",
      "           5       0.93      0.94      0.93      3007\n",
      "           6       0.98      0.98      0.98      3346\n",
      "           7       0.96      0.96      0.96      3515\n",
      "           8       0.93      0.94      0.94      3266\n",
      "           9       0.94      0.94      0.94      3347\n",
      "\n",
      "    accuracy                           0.96     33600\n",
      "   macro avg       0.96      0.96      0.96     33600\n",
      "weighted avg       0.96      0.96      0.96     33600\n",
      "\n"
     ]
    }
   ],
   "source": [
    "# Predict values for the test set\n",
    "y_pred_train = LogMod.predict(X_train)\n",
    "y_pred_test = LogMod.predict(X_test)\n",
    "\n",
    "# Print a confusion matrix and classification report\n",
    "print(f\"The Test model:\\n{confusion_matrix(y_test, y_pred_test)}\")\n",
    "print(f\"The Train model:\\n{confusion_matrix(y_train, y_pred_train)}\")\n",
    "\n",
    "matrix_test = ConfusionMatrixDisplay(confusion_matrix(y_test, y_pred_test) ,display_labels=LogMod.classes_) # Without display_labels it will show class\n",
    "matrix_train = ConfusionMatrixDisplay(confusion_matrix(y_train, y_pred_train) ,display_labels=LogMod.classes_)                                                          \n",
    "\n",
    "print(\"=\"*30 + \"\\nY-TEST SET\\n\" + \"=\"*30)\n",
    "matrix_test.plot()\n",
    "plt.show()\n",
    "print(\"=\"*30 + \"\\nY-TRAIN SET\\n\" + \"=\"*30)\n",
    "matrix_train.plot()\n",
    "plt.show()\n",
    "\n",
    "print(\"\\nClassification report TEST:\")\n",
    "print(classification_report(y_test,y_pred_test))\n",
    "\n",
    "print(\"\\nClassification report TRAIN:\")\n",
    "print(classification_report(y_train,y_pred_train))"
   ]
  },
  {
   "cell_type": "markdown",
   "metadata": {},
   "source": [
    "Following code let's you draw a number and predict it using your model\n",
    "\n",
    "The model should be called 'model' or be renamed in the code below\n",
    "\n",
    "Note that you need packages pillow and tkinter\n",
    "\n",
    "`conda install pillow tk` or `pip3 install pillow tk` or `sudo dnf install python3-pillow python3-tkinter`"
   ]
  },
  {
   "cell_type": "code",
   "execution_count": null,
   "metadata": {},
   "outputs": [
    {
     "name": "stderr",
     "output_type": "stream",
     "text": [
      "Exception in Tkinter callback\n",
      "Traceback (most recent call last):\n",
      "  File \"C:\\Users\\uniro\\AppData\\Local\\Programs\\Python\\Python310\\lib\\tkinter\\__init__.py\", line 1921, in __call__\n",
      "    return self.func(*args)\n",
      "  File \"C:\\Users\\uniro\\AppData\\Local\\Temp\\ipykernel_2444\\4288243161.py\", line 16, in predict\n",
      "    print(model.predict(op2_array))\n",
      "NameError: name 'model' is not defined\n",
      "Exception in Tkinter callback\n",
      "Traceback (most recent call last):\n",
      "  File \"C:\\Users\\uniro\\AppData\\Local\\Programs\\Python\\Python310\\lib\\tkinter\\__init__.py\", line 1921, in __call__\n",
      "    return self.func(*args)\n",
      "  File \"C:\\Users\\uniro\\AppData\\Local\\Temp\\ipykernel_2444\\4288243161.py\", line 16, in predict\n",
      "    print(model.predict(op2_array))\n",
      "NameError: name 'model' is not defined\n"
     ]
    }
   ],
   "source": [
    "from PIL import ImageTk, Image, ImageDraw\n",
    "import PIL\n",
    "from tkinter import *\n",
    "\n",
    "width = 280  # canvas width\n",
    "height = 280 # canvas height\n",
    "center = height//2\n",
    "white = (255) # canvas back\n",
    "\n",
    "def predict():\n",
    "    op2 = PIL.ImageChops.invert(output_image)\n",
    "    op2=op2.resize((28,28),resample=3)\n",
    "    # Show the image\n",
    "    plt.imshow(op2,cmap='Greys')\n",
    "    op2_array = np.asarray(op2).reshape(1,-1)\n",
    "    print(model.predict(op2_array))\n",
    "    \n",
    "def clear():\n",
    "    plt.close()\n",
    "    canvas.delete(\"all\")\n",
    "    draw.rectangle((0,0,width,height),fill=255)\n",
    "    \n",
    "def paint(event):\n",
    "    x1, y1 = (event.x - 1), (event.y - 1)\n",
    "    x2, y2 = (event.x + 1), (event.y + 1)\n",
    "    canvas.create_oval(x1, y1, x2, y2, fill=\"black\",width=25)\n",
    "    draw.line([x1, y1, x2, y2],fill=\"black\",width=25)\n",
    "\n",
    "master = Tk()\n",
    "\n",
    "# create a tkinter canvas to draw on\n",
    "canvas = Canvas(master, width=width, height=height, bg='white')\n",
    "canvas.pack()\n",
    "\n",
    "# create an empty PIL image and draw object to draw on\n",
    "output_image = PIL.Image.new(\"L\", (width, height), white)\n",
    "draw = ImageDraw.Draw(output_image)\n",
    "canvas.pack(expand=YES, fill=BOTH)\n",
    "canvas.bind(\"<B1-Motion>\", paint)\n",
    "\n",
    "# add a button to save the image\n",
    "button=Button(text=\"predict\",command=predict)\n",
    "button.pack()\n",
    "button=Button(text=\"clear\",command=clear)\n",
    "button.pack()\n",
    "\n",
    "master.mainloop()"
   ]
  }
 ],
 "metadata": {
  "kernelspec": {
   "display_name": "Python 3 (ipykernel)",
   "language": "python",
   "name": "python3"
  },
  "language_info": {
   "codemirror_mode": {
    "name": "ipython",
    "version": 3
   },
   "file_extension": ".py",
   "mimetype": "text/x-python",
   "name": "python",
   "nbconvert_exporter": "python",
   "pygments_lexer": "ipython3",
   "version": "3.10.6"
  }
 },
 "nbformat": 4,
 "nbformat_minor": 2
}
